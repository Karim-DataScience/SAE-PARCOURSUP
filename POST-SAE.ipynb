{
 "cells": [
  {
   "cell_type": "markdown",
   "id": "abde0ad3",
   "metadata": {},
   "source": [
    "## BOITES A OUTILS"
   ]
  },
  {
   "cell_type": "markdown",
   "id": "3a579f97",
   "metadata": {},
   "source": [
    "<p><strong>Outils fournis</strong> : <a href=\"https://www.ataraxy.info/TMP/EtendueVSEcart-type.html\">PDF</a></p>"
   ]
  },
  {
   "cell_type": "markdown",
   "id": "b63c954f",
   "metadata": {},
   "source": [
    "Moyenne"
   ]
  },
  {
   "cell_type": "code",
   "execution_count": null,
   "id": "a30ad3f7",
   "metadata": {},
   "outputs": [],
   "source": [
    "def moyenne(x) :\n",
    "    \"\"\"\n",
    "    Moyenne des éléments de la liste passée en paramètre\n",
    "    Cas d'erreur : None\n",
    "    \"\"\"\n",
    "    try : \n",
    "        n=len(x)\n",
    "        test=True\n",
    "        for i in range(n) : \n",
    "            test=(test and isinstance(x[i], (int, float)))\n",
    "    except : return None\n",
    "    if(n==0 or not(test)) : return None\n",
    "    \n",
    "    res=0\n",
    "    for i in range(n) : res+=x[i]\n",
    "        \n",
    "    return res/n"
   ]
  },
  {
   "cell_type": "markdown",
   "id": "3cc5bb2b",
   "metadata": {},
   "source": [
    "Variance - Covariance - EcartType"
   ]
  },
  {
   "cell_type": "code",
   "execution_count": 3,
   "id": "f7a1086b",
   "metadata": {},
   "outputs": [],
   "source": [
    "def covariance(x, y) :\n",
    "    \"\"\"\n",
    "    Covaraiance des éléments des listes passées en paramètre\n",
    "    Cas d'erreur : None\n",
    "    \"\"\"\n",
    "    try :\n",
    "        n=len(x)\n",
    "        m=len(y)\n",
    "        test=True\n",
    "        for i in range(min(n, m)) : \n",
    "            test=(test and isinstance(x[i], (int, float)) and  isinstance(y[i], (int, float)))\n",
    "    except : return None\n",
    "    if(n==0 or not(test) or n!=m) : return None\n",
    "    \n",
    "    xy=[]\n",
    "    for i in range(n) : xy.append(x[i]*y[i])\n",
    "    mx=moyenne(x)\n",
    "    my=moyenne(y)\n",
    "    mxy=moyenne(xy)\n",
    "    if(mx==None or my==None or mxy==None) : return None\n",
    "    return mxy-mx*my\n",
    "def variance(x) : \n",
    "    \"\"\"\n",
    "    Variance des éléments de la liste passée en paramètre\n",
    "    Cas d'erreur : None\n",
    "    \"\"\"\n",
    "    return covariance(x, x)\n",
    "\n",
    "def ecartype(x) : \n",
    "    \"\"\"\n",
    "    Ecartype des éléments de la liste passée en paramètre\n",
    "    Cas d'erreur : None\n",
    "    \"\"\"\n",
    "    v=variance(x)\n",
    "    if(v==None or v<0) : return None\n",
    "    return sqrt(v)"
   ]
  },
  {
   "cell_type": "markdown",
   "id": "a2bf31a3",
   "metadata": {},
   "source": [
    "# Récupération des données"
   ]
  },
  {
   "cell_type": "markdown",
   "id": "93f9b4a5",
   "metadata": {},
   "source": [
    "Base du Candidat"
   ]
  },
  {
   "cell_type": "code",
   "execution_count": null,
   "id": "530a30f0",
   "metadata": {},
   "outputs": [],
   "source": [
    "DBC ={\n",
    "        'Validation':0,\n",
    "        'Num_Can':df['Numéro'][i],\n",
    "        'SEXE':df['Sexe'][i], \n",
    "        'FILIERE':'?',\n",
    "        'Autre_Form':'?',\n",
    "        'An_Bac': None,\n",
    "        'Bourse': False, \n",
    "        'Nom_Eta' : df[\"Libellé établissement\"][i], \n",
    "        'Com_Eta' : df[\"Commune établissement\"][i], \n",
    "        'Depa_Eta' : df[\"Département établissement\"][i]\n",
    "    }"
   ]
  },
  {
   "cell_type": "markdown",
   "id": "101d4769",
   "metadata": {},
   "source": [
    "Formation en cours"
   ]
  },
  {
   "cell_type": "code",
   "execution_count": null,
   "id": "1b840e6e",
   "metadata": {},
   "outputs": [],
   "source": [
    "Form = df['Série diplôme'][i]\n",
    "FR_Oral = df[\"Note à l'épreuve de Oral de Français (épreuve anticipée)\"][i]\n",
    "FR_Ecrit = df[\"Note à l'épreuve de Ecrit de Français (épreuve anticipée)\"][i]"
   ]
  },
  {
   "cell_type": "markdown",
   "id": "a491cf8c",
   "metadata": {},
   "source": [
    "Candidats Boursier ?"
   ]
  },
  {
   "cell_type": "code",
   "execution_count": null,
   "id": "d1c8b4f3",
   "metadata": {},
   "outputs": [],
   "source": [
    "if(df[\"Boursier\"][i] in [\"Boursier de l'enseignement supérieur\", 'Boursier du secondaire']) : DBC['BOURSIER'] = True"
   ]
  },
  {
   "cell_type": "markdown",
   "id": "2e17ef8d",
   "metadata": {},
   "source": [
    "Candidat a validé son voeux ?"
   ]
  },
  {
   "cell_type": "code",
   "execution_count": null,
   "id": "95d16ab4",
   "metadata": {},
   "outputs": [],
   "source": [
    "if(df['Validation'][i]=='NON') : \n",
    "        DBC['Validation']= 0"
   ]
  },
  {
   "cell_type": "markdown",
   "id": "8f69c7b5",
   "metadata": {},
   "source": [
    "Quelle Filière ?"
   ]
  },
  {
   "cell_type": "code",
   "execution_count": null,
   "id": "fef96b8e",
   "metadata": {},
   "outputs": [],
   "source": [
    "if(df['Groupe'][i]==7415) : \n",
    "    DBC['FILIERE']='Générale'\n",
    "else : \n",
    "    DBC['FILIERE']='Technologique'"
   ]
  },
  {
   "cell_type": "markdown",
   "id": "5d0488a8",
   "metadata": {},
   "source": [
    "Bac de Français passé ?"
   ]
  },
  {
   "cell_type": "code",
   "execution_count": null,
   "id": "5716f7ff",
   "metadata": {},
   "outputs": [],
   "source": [
    "def BAC_FR(i)\n",
    "if (isnan(FR_Oral) or isnan(FR_Ecrit)):\n",
    "    return \"NON\"\n",
    "else :\n",
    "    return \"OUI\""
   ]
  },
  {
   "cell_type": "markdown",
   "id": "60e396c7",
   "metadata": {},
   "source": [
    "Validation des candidats de DAEU - Autres Diplome - Scientifique :  \n",
    "    - Les DAEU et Autres Formations, sont à trier à la main donc 0."
   ]
  },
  {
   "cell_type": "code",
   "execution_count": null,
   "id": "fb045b22",
   "metadata": {},
   "outputs": [],
   "source": [
    "if(df['Validation'][i]=='Non') : \n",
    "        #Voeux non confirmé => non classé\n",
    "        DBC['Validation']=-1\n",
    "    elif Form == \"DAEU\" : \n",
    "        if df[\"Spécialité diplôme bac Pro et anciens bacs\"][i] == Daeu-b :\n",
    "            DBC['Validation']=0\n",
    "            DBC['Autre_Form']=\"DAEU-B\"\n",
    "            return DBC\n",
    "        else:\n",
    "            DBC['Validation']=-1\n",
    "    elif(Form in [\"Bac général de plus de 15 ans\",\"Baccalauréat International\"]) : \n",
    "        #Bac en cours mais pas classique => dossier à étudier à la main\n",
    "        DBC['Validation']=0\n",
    "        DBC['Autre_Form']=\"AUTRES\"\n",
    "        return DBC\n",
    "    elif(BAC_FR(i)==\"OUI\" and Form==\"Scientifique\") : \n",
    "        DBC[\"Validation\"]=1"
   ]
  },
  {
   "cell_type": "markdown",
   "id": "62e008c2",
   "metadata": {},
   "source": [
    "Validation Candidats Généraux"
   ]
  },
  {
   "cell_type": "code",
   "execution_count": null,
   "id": "32e8b06e",
   "metadata": {},
   "outputs": [],
   "source": [
    "EDS_Term1 = df[\"EDS BAC Terminale\"][i] \n",
    "EDS_Term2 = df[\"EDS BAC Terminale.1\"][i] \n",
    "EDS_Term3 = df[\"EDS BAC Abandonné\"][i] "
   ]
  },
  {
   "cell_type": "code",
   "execution_count": null,
   "id": "774e624f",
   "metadata": {},
   "outputs": [],
   "source": [
    "elif(Form in [\"Série Générale \" or \"Générale\"]:\n",
    "    if EDS_Term1 == \"Mathématiques Spécialité\":\n",
    "        if(EDS_Term2 in [\"Physique-Chimie Spécialité\",\"Numérique et Sciences Informatiques\"])\n",
    "            DBC[\"Validation\"]=1"
   ]
  },
  {
   "cell_type": "markdown",
   "id": "a73d93cc",
   "metadata": {},
   "source": [
    "Table des Matières"
   ]
  },
  {
   "cell_type": "code",
   "execution_count": null,
   "id": "4c97f839",
   "metadata": {},
   "outputs": [],
   "source": [
    "matiere={}\n",
    "    \n",
    "        \n",
    "        #Math\n",
    "        matiere['MATH']={\n",
    "            'NOM' : 'Mathématiques',\n",
    "            'NOTE' : {\n",
    "                'P1':'Trimestre 1.1',\n",
    "                'P2':'Trimestre 2.1',\n",
    "                'P3':'Trimestre 3.1',\n",
    "                'T1':'Trimestre 1',\n",
    "                'T2':'Trimestre 2',\n",
    "                'T3':'Trimestre 3'\n",
    "            }\n",
    "        }\n",
    "        \n",
    "        #Français\n",
    "        matiere['FRANCAIS']={\n",
    "            'NOM' : 'Français',\n",
    "            'NOTE' : {\n",
    "                'P1':'Trimestre 1.1',\n",
    "                'P2':'Trimestre 2.1',\n",
    "                'P3':'Trimestre 3.1',\n",
    "                'T1':'Trimestre 1',\n",
    "                'T2':'Trimestre 2',\n",
    "                'T3':'Trimestre 3'\n",
    "            }\n",
    "        } \n",
    "        \n",
    "        #Spécialité\n",
    "        SPE_Math=df[\"Spécialité diplôme bac Pro et anciens bacs\"][i]\n",
    "\n",
    "        ifSPE_Math == \"Mathématiques\" :\n",
    "            matiere[mat_interessante[SPE_Math]]={\n",
    "                'NOM' : SPE_Math,\n",
    "                'NOTE' : {\n",
    "                    'P1':'Trimestre 1.1',\n",
    "                    'P2':'Trimestre 2.1',\n",
    "                    'P3':'Trimestre 3.1',\n",
    "                    'T1':'Trimestre 1',\n",
    "                    'T2':'Trimestre 2',\n",
    "                    'T3':'Trimestre 3'\n",
    "                }\n",
    "            }\n",
    "        \n",
    "        #Anglais\n",
    "        LV1=df[\"LV1\"][i]\n",
    "        LV2=df[\"LV2\"][i]\n",
    "        mat=None\n",
    "        if(LV1==\"Anglais\") : mat=\"Langue vivante 1\"\n",
    "        if(LV2==\"Anglais\") : mat=\"Langue vivante 2\"\n",
    "\n",
    "        if(mat!=None) : \n",
    "            matiere['ANGLAIS']={\n",
    "                'NOM' : mat,\n",
    "                'NOTE' : {\n",
    "                    'P1':'Trimestre 1.1',\n",
    "                    'P2':'Trimestre 2.1',\n",
    "                    'P3':'Trimestre 3.1',\n",
    "                    'T1':'Trimestre 1',\n",
    "                    'T2':'Trimestre 2',\n",
    "                    'T3':'Trimestre 3'\n",
    "                }\n",
    "            }  "
   ]
  },
  {
   "cell_type": "markdown",
   "id": "51d2d452",
   "metadata": {},
   "source": [
    "Validations des Candidats ES:"
   ]
  },
  {
   "cell_type": "code",
   "execution_count": null,
   "id": "1cf5d28f",
   "metadata": {},
   "outputs": [],
   "source": [
    "elif(Form in [\"Série Générale \" or \"Générale\"]:\n",
    "    if EDS_Term1 == \"Mathématiques Spécialité\":\n",
    "        if(EDS_Term2 in [\"Physique-Chimie Spécialité\",\"Numérique et Sciences Informatiques\"])\n",
    "            DBC[\"Validation\"]=1 \n",
    "elif(diplome==\"Bac français obtenu\" and Form==\"Economique et social\" ) : \n",
    "        DBC[\"Validation\"]=1"
   ]
  },
  {
   "cell_type": "code",
   "execution_count": null,
   "id": "25e503b1",
   "metadata": {},
   "outputs": [],
   "source": [
    "        #Math\n",
    "        matiere['MATH']={\n",
    "            'NOM' : 'Mathématiques',\n",
    "            'NOTE' : {\n",
    "                'P1':'Trimestre 1.1',\n",
    "                'P2':'Trimestre 2.1',\n",
    "                'P3':'Trimestre 3.1',\n",
    "                'T1':'Trimestre 1',\n",
    "                'T2':'Trimestre 2',\n",
    "                'T3':'Trimestre 3'\n",
    "            }\n",
    "        }\n",
    "        \n",
    "        #Français\n",
    "        matiere['FRANCAIS']={\n",
    "            'NOM' : 'Français',\n",
    "            'NOTE' : {\n",
    "                'P1':'Trimestre 1.1',\n",
    "                'P2':'Trimestre 2.1',\n",
    "                'P3':'Trimestre 3.1',\n",
    "                'T1':'Trimestre 1',\n",
    "                'T2':'Trimestre 2',\n",
    "                'T3':'Trimestre 3'\n",
    "            }\n",
    "        } \n",
    "        \n",
    "        #SES\n",
    "        matiere['SES']={\n",
    "            'NOM' : 'Sciences Economiques et Sociales',\n",
    "            'NOTE' : {\n",
    "                'P1':'Trimestre 1.1',\n",
    "                'P2':'Trimestre 2.1',\n",
    "                'P3':'Trimestre 3.1',\n",
    "                'T1':'Trimestre 1',\n",
    "                'T2':'Trimestre 2',\n",
    "                'T3':'Trimestre 3'\n",
    "            }\n",
    "        }\n",
    "        \n",
    "        #Anglais\n",
    "        LV1=df[\"LV1\"][i]\n",
    "        LV2=df[\"LV2\"][i]\n",
    "        mat=None\n",
    "        if(LV1==\"Anglais\") : mat=\"Langue vivante 1\"\n",
    "        if(LV2==\"Anglais\") : mat=\"Langue vivante 2\"\n",
    "\n",
    "        if(mat!=None) : \n",
    "            matiere['ANGLAIS']={\n",
    "                'NOM' : mat,\n",
    "                'NOTE' : {\n",
    "                    'P1':'Trimestre 1.1',\n",
    "                    'P2':'Trimestre 2.1',\n",
    "                    'P3':'Trimestre 3.1',\n",
    "                    'T1':'Trimestre 1',\n",
    "                    'T2':'Trimestre 2',\n",
    "                    'T3':'Trimestre 3'\n",
    "                }\n",
    "            }\n",
    "\n",
    "        #Spécialité\n",
    "        SPE_Math=df[\"Spécialité diplôme bac Pro et anciens bacs\"][i]\n",
    "\n",
    "        ifSPE_Math == \"Mathématiques\" :\n",
    "            matiere[mat_interessante[SPE_Math]]={\n",
    "                'NOM' : SPE_Math,\n",
    "                'NOTE' : {\n",
    "                    'P1':'Trimestre 1.1',\n",
    "                    'P2':'Trimestre 2.1',\n",
    "                    'P3':'Trimestre 3.1',\n",
    "                    'T1':'Trimestre 1',\n",
    "                    'T2':'Trimestre 2',\n",
    "                    'T3':'Trimestre 3'\n",
    "                }\n",
    "            }"
   ]
  },
  {
   "cell_type": "markdown",
   "id": "ce9d58a5",
   "metadata": {},
   "source": [
    "Validation Candidats STI2D"
   ]
  },
  {
   "cell_type": "code",
   "execution_count": null,
   "id": "45f02dfe",
   "metadata": {},
   "outputs": [],
   "source": [
    "elif(bac==\"Sciences et Technologies de l'Industrie et du Développement Durable\") : \n",
    "        \n",
    "        DBC['Validation']=1\n",
    "        \n",
    "        #Sciences\n",
    "        matiere['SCIENCES']={\n",
    "            'NOM' : 'Physique-Chimie et Mathématiques',\n",
    "            'NOTE' : {\n",
    "                'P1':'Trimestre 1.1',\n",
    "                'P2':'Trimestre 2.1',\n",
    "                'P3':'Trimestre 3.1',\n",
    "                'T1':'Trimestre 1',\n",
    "                'T2':'Trimestre 2',\n",
    "                'T3':'Trimestre 3'\n",
    "            }\n",
    "        }\n",
    "\n",
    "        #Math\n",
    "        matiere['MATH']={\n",
    "            'NOM' : 'Mathématiques',\n",
    "            'NOTE' : {\n",
    "                'P1':'Trimestre 1.1',\n",
    "                'P2':'Trimestre 2.1',\n",
    "                'P3':'Trimestre 3.1',\n",
    "                'T1':'Trimestre 1',\n",
    "                'T2':'Trimestre 2',\n",
    "                'T3':'Trimestre 3'\n",
    "            }\n",
    "        }\n",
    "\n",
    "        #Informatique\n",
    "        matiere['NSI']={\n",
    "            'NOM' : \"Systemes d''inForm et numerique\",\n",
    "            'NOTE' : {\n",
    "                'P1':'Trimestre 1.1',\n",
    "                'P2':'Trimestre 2.1',\n",
    "                'P3':'Trimestre 3.1',\n",
    "                'T1':'Trimestre 1',\n",
    "                'T2':'Trimestre 2',\n",
    "                'T3':'Trimestre 3'\n",
    "            }\n",
    "        }\n",
    "        \n",
    "        #Français\n",
    "        matiere['FRANCAIS']={\n",
    "            'NOM' : 'Français',\n",
    "            'NOTE' : {\n",
    "                'P1':'Trimestre 1.1',\n",
    "                'P2':'Trimestre 2.1',\n",
    "                'P3':'Trimestre 3.1',\n",
    "                'T1':'Trimestre 1',\n",
    "                'T2':'Trimestre 2',\n",
    "                'T3':'Trimestre 3'\n",
    "            }\n",
    "        }       \n",
    "\n",
    "        #Anglais\n",
    "        LVA=df[\"LV A Bac\"][i]\n",
    "        LVB=df[\"LV B Bac\"][i]\n",
    "        mat=None\n",
    "        if(LVA==\"Anglais\") : mat=\"Langue vivante A\"\n",
    "        if(LVB==\"Anglais\") : mat=\"Langue vivante B\"\n",
    "\n",
    "        if(mat!=None) : \n",
    "            matiere['ANGLAIS']={\n",
    "                'NOM' : mat,\n",
    "                'NOTE' : {\n",
    "                    'P1':'Trimestre 1.1',\n",
    "                    'P2':'Trimestre 2.1',\n",
    "                    'P3':'Trimestre 3.1',\n",
    "                    'T1':'Trimestre 1',\n",
    "                    'T2':'Trimestre 2',\n",
    "                    'T3':'Trimestre 3'\n",
    "                }\n",
    "            }  "
   ]
  },
  {
   "cell_type": "code",
   "execution_count": null,
   "id": "d84e6b73",
   "metadata": {},
   "outputs": [],
   "source": [
    "def recupDBC(df, i, a=6.22, b=10.02) :\n",
    " \n",
    "    elif(bac=='Série Générale') : \n",
    "        \n",
    "        DBC['Validation']=1\n",
    "\n",
    "        #Sciences\n",
    "        matiere['SCIENCES']={\n",
    "            'NOM' : 'Enseignement scientifique',\n",
    "            'NOTE' : {\n",
    "                'P1':'Trimestre 1.1',\n",
    "                'P2':'Trimestre 2.1',\n",
    "                'P3':'Trimestre 3.1',\n",
    "                'T1':'Trimestre 1',\n",
    "                'T2':'Trimestre 2',\n",
    "                'T3':'Trimestre 3'\n",
    "            }\n",
    "        }\n",
    "\n",
    "        #Français\n",
    "        matiere['FRANCAIS']={\n",
    "            'NOM' : 'Français',\n",
    "            'NOTE' : {\n",
    "                'P1':'Trimestre 1.1',\n",
    "                'P2':'Trimestre 2.1',\n",
    "                'P3':'Trimestre 3.1',\n",
    "                'T1':'Trimestre 1',\n",
    "                'T2':'Trimestre 2',\n",
    "                'T3':'Trimestre 3'\n",
    "            }\n",
    "        }       \n",
    "\n",
    "        #Anglais\n",
    "        LVA=df[\"LV A Bac\"][i]\n",
    "        LVB=df[\"LV B Bac\"][i]\n",
    "        mat=None\n",
    "        if(LVA==\"Anglais\") : mat=\"Langue vivante A\"\n",
    "        if(LVB==\"Anglais\") : mat=\"Langue vivante B\"\n",
    "\n",
    "        if(mat!=None) : \n",
    "            matiere['ANGLAIS']={\n",
    "                'NOM' : mat,\n",
    "                'NOTE' : {\n",
    "                    'P1':'Trimestre 1.1',\n",
    "                    'P2':'Trimestre 2.1',\n",
    "                    'P3':'Trimestre 3.1',\n",
    "                    'T1':'Trimestre 1',\n",
    "                    'T2':'Trimestre 2',\n",
    "                'T3':'Trimestre 3'\n",
    "                }\n",
    "            }  \n",
    "\n",
    "        #Enseignements de spécialités\n",
    "        mat_interessante={\n",
    "            \"Mathématiques Spécialité\":\"MATH\",\n",
    "            \"Numérique et Sciences Informatiques\":\"NSI\"\n",
    "        }\n",
    "\n",
    "        #Les deux enseignements de spécialité de terminale\n",
    "        mat1 = df[\"EDS BAC Terminale\"][i]\n",
    "        mat2 = df[\"EDS BAC Terminale.1\"][i]\n",
    "\n",
    "        for mat in [mat1, mat2] : \n",
    "            if(mat in mat_interessante.keys()) :\n",
    "                matiere[mat_interessante[mat]]={\n",
    "                    'NOM' : mat,\n",
    "                    'NOTE' : {\n",
    "                        'P1':'Trimestre 1.1',\n",
    "                        'P2':'Trimestre 2.1',\n",
    "                        'P3':'Trimestre 3.1',\n",
    "                        'T1':'Trimestre 1',\n",
    "                        'T2':'Trimestre 2',\n",
    "                        'T3':'Trimestre 3'\n",
    "                    }\n",
    "                }   \n",
    "\n",
    "\n",
    "        #Option Math complémentaire\n",
    "        matiere['MATH_COMP']={\n",
    "            'NOM' : 'Mathématiques Complémentaires',\n",
    "            'NOTE' : {\n",
    "                'T1':'Trimestre 1',\n",
    "                'T2':'Trimestre 2',\n",
    "                'T3':'Trimestre 3'\n",
    "            }\n",
    "        }\n",
    "\n",
    "        #Option Math expertes\n",
    "        matiere['MATH_EXP']={\n",
    "            'NOM' : 'Mathématiques Expertes',\n",
    "            'NOTE' : {\n",
    "                'T1':'Trimestre 1',\n",
    "                'T2':'Trimestre 2',\n",
    "                'T3':'Trimestre 3'\n",
    "            }\n",
    "        }        \n",
    "    else :  #Si aucun des cas\n",
    "        DBC['Validation']=-1\n",
    "        return DBC    \n",
    "    \n",
    "    for mat in matiere : \n",
    "        trimestre=matiere[mat]['NOTE']\n",
    "        DBC[mat]={}\n",
    "        for tri in trimestre : \n",
    "            DBC[mat][tri] = recupNOTE(df, i, matiere[mat]['NOM'], trimestre[tri], a, b)\n",
    "            \n",
    "    return DBC"
   ]
  },
  {
   "cell_type": "markdown",
   "id": "34e1aba8",
   "metadata": {},
   "source": [
    "# Normalisation"
   ]
  },
  {
   "cell_type": "markdown",
   "id": "ef3dc4c3",
   "metadata": {},
   "source": [
    "Récupération des Moyennes d'une matière"
   ]
  },
  {
   "cell_type": "code",
   "execution_count": null,
   "id": "30f4653a",
   "metadata": {},
   "outputs": [],
   "source": [
    "Moy=df[\"Moyenne classe en \"+matiere+\" \"+trimestre][i]\n",
    "Min=df[\"Moyenne plus basse en \"+matiere+\" \"+trimestre][i]\n",
    "Max=df[\"Moyenne plus haute en \"+matiere+\" \"+trimestre][i]\n",
    "Can=df[\"Moyenne candidat en \"+matiere+\" \"+trimestre][i]"
   ]
  },
  {
   "cell_type": "markdown",
   "id": "53968f00",
   "metadata": {},
   "source": [
    "Vérification des Données"
   ]
  },
  {
   "cell_type": "code",
   "execution_count": null,
   "id": "e230c15a",
   "metadata": {},
   "outputs": [],
   "source": [
    "if(isinstance(Moy, str)) : Moy=float(Moy.replace(',','.'))\n",
    "if(isinstance(Min, str)) : Min=float(Min.replace(',','.'))\n",
    "if(isinstance(Max, str)) : Max=float(Max.replace(',','.'))\n",
    "if(isinstance(Can, str)) : Etu=float(Can.replace(',','.'))"
   ]
  },
  {
   "cell_type": "markdown",
   "id": "4eca092f",
   "metadata": {},
   "source": [
    "Si étudiant n'a pas de note"
   ]
  },
  {
   "cell_type": "code",
   "execution_count": null,
   "id": "10ca5026",
   "metadata": {},
   "outputs": [],
   "source": [
    "if(isnan(Can)) : \n",
    "    return None"
   ]
  },
  {
   "cell_type": "markdown",
   "id": "a83e7323",
   "metadata": {},
   "source": [
    "Aucun Max ni Min ni Moy"
   ]
  },
  {
   "cell_type": "code",
   "execution_count": null,
   "id": "80b2de93",
   "metadata": {},
   "outputs": [],
   "source": [
    "if(isnan(Moy) or isnan(Min) or isnan(Max)) :\n",
    "    return b"
   ]
  },
  {
   "cell_type": "markdown",
   "id": "96856a0f",
   "metadata": {},
   "source": [
    "Normalisation note"
   ]
  },
  {
   "cell_type": "code",
   "execution_count": null,
   "id": "54f17a32",
   "metadata": {},
   "outputs": [],
   "source": [
    "    if(Max==Min) : note = b\n",
    "    else : note=(Can-Moy)/(Max-Min)"
   ]
  },
  {
   "cell_type": "code",
   "execution_count": null,
   "id": "4213257c",
   "metadata": {},
   "outputs": [],
   "source": [
    "def recupNOTE(df, i, matiere, trimestre, a=6.22, b=10.02) :     \n",
    "            \n",
    "    return note"
   ]
  },
  {
   "cell_type": "code",
   "execution_count": null,
   "id": "6b150a38",
   "metadata": {},
   "outputs": [],
   "source": []
  }
 ],
 "metadata": {
  "kernelspec": {
   "display_name": "Python 3 (ipykernel)",
   "language": "python",
   "name": "python3"
  },
  "language_info": {
   "codemirror_mode": {
    "name": "ipython",
    "version": 3
   },
   "file_extension": ".py",
   "mimetype": "text/x-python",
   "name": "python",
   "nbconvert_exporter": "python",
   "pygments_lexer": "ipython3",
   "version": "3.9.13"
  }
 },
 "nbformat": 4,
 "nbformat_minor": 5
}
