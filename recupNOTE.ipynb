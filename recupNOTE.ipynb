{
 "cells": [
  {
   "cell_type": "code",
   "execution_count": 2,
   "id": "daa1ad4f",
   "metadata": {},
   "outputs": [],
   "source": [
    "def calculNOTE(DATA, MATRICE, MATIERE) :\n",
    "    res=None\n",
    "    a=0\n",
    "    for mat in MATIERE : \n",
    "        N=calculMoyennes(DATA, MATRICE, mat)\n",
    "        \n",
    "        if(N!=None) :\n",
    "            if(N<MATRICE[mat]['PLANCHE']) : return \"NC\" #Non classé\n",
    "        \n",
    "        if(N!=None) : \n",
    "            if(res==None) : res=0\n",
    "            res+=MATRICE[mat]['COEF']*N\n",
    "            a+=MATRICE[mat]['COEF']\n",
    "            \n",
    "        #Si le candidat n'a pas de note de français ou anglais il sera non classé\n",
    "        if(N==None and mat in ['FRANCAIS', 'ANGLAIS']) : return \"NC\"\n",
    "\n",
    "    if(res!=None and a!=0) : res=res/a\n",
    "    return res"
   ]
  },
  {
   "cell_type": "code",
   "execution_count": 1,
   "id": "37571385",
   "metadata": {},
   "outputs": [],
   "source": [
    "def calculMoyennes(DATA, MATRICE, mat) :\n",
    "    res=None\n",
    "    b=0\n",
    "    for x in ['P1', 'P2', 'P3', 'T1', 'T2', 'T3'] : \n",
    "        try : DATA[mat][x]\n",
    "        except : continue\n",
    "\n",
    "        if(DATA[mat][x]!=None) :\n",
    "            if(res==None) : \n",
    "                res=DATA[mat][x]*MATRICE[mat][x]\n",
    "                b+=MATRICE[mat][x]\n",
    "    if(res!=None) :\n",
    "        if(b==0) : res=None\n",
    "        else : res=res/b\n",
    "    return res"
   ]
  },
  {
   "cell_type": "code",
   "execution_count": 3,
   "id": "8ddcd5ce",
   "metadata": {},
   "outputs": [],
   "source": [
    "def calculnote(DATA, MATRICE, MATIERE):\n",
    "    res = None\n",
    "    a = 0\n",
    "    for mat in MATIERE:\n",
    "        b = 0\n",
    "        for x in ['P1', 'P2', 'P3', 'T1', 'T2', 'T3']:\n",
    "            try:\n",
    "                DATA[mat][x]\n",
    "            except:\n",
    "                continue\n",
    "\n",
    "            if DATA[mat][x] is not None:\n",
    "                if res is None:\n",
    "                    res = DATA[mat][x] * MATRICE[mat][x]\n",
    "                    b += MATRICE[mat][x]\n",
    "\n",
    "        if b > 0:\n",
    "            N = res / b\n",
    "            if N < MATRICE[mat]['PLANCHE']:\n",
    "                return \"NC\"  # Non classé\n",
    "\n",
    "            res = MATRICE[mat]['COEF'] * N + res\n",
    "            a = MATRICE[mat]['COEF'] + a\n",
    "\n",
    "        # Si le candidat n'a pas de note de français ou anglais il sera non classé\n",
    "        if DATA[mat]['P1'] is None and mat in ['FRANCAIS', 'ANGLAIS']:\n",
    "            return \"NC\"\n",
    "\n",
    "    if res is not None and a != 0:\n",
    "        res = res / a\n",
    "    return res\n"
   ]
  }
 ],
 "metadata": {
  "kernelspec": {
   "display_name": "Python 3 (ipykernel)",
   "language": "python",
   "name": "python3"
  },
  "language_info": {
   "codemirror_mode": {
    "name": "ipython",
    "version": 3
   },
   "file_extension": ".py",
   "mimetype": "text/x-python",
   "name": "python",
   "nbconvert_exporter": "python",
   "pygments_lexer": "ipython3",
   "version": "3.9.13"
  }
 },
 "nbformat": 4,
 "nbformat_minor": 5
}
