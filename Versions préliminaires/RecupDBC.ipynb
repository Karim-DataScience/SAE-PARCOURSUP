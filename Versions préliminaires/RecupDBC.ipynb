{
 "cells": [
  {
   "cell_type": "markdown",
   "id": "e0299946",
   "metadata": {},
   "source": [
    "# Récupération des données"
   ]
  },
  {
   "cell_type": "code",
   "execution_count": null,
   "id": "f3995ec6",
   "metadata": {},
   "outputs": [],
   "source": [
    "import pandas as pd\n",
    "from math import isnan\n",
    "import time \n",
    "import numpy as np"
   ]
  },
  {
   "cell_type": "code",
   "execution_count": null,
   "id": "a1101771",
   "metadata": {},
   "outputs": [],
   "source": [
    "df = pd.read_excel(\"PS_INFO.xlsx\")"
   ]
  },
  {
   "cell_type": "code",
   "execution_count": null,
   "id": "a318f16a",
   "metadata": {},
   "outputs": [],
   "source": [
    "Form = df['Série diplôme']"
   ]
  },
  {
   "cell_type": "code",
   "execution_count": null,
   "id": "2416c02c",
   "metadata": {},
   "outputs": [],
   "source": [
    "def normalisation_bac(i,forme,epreuve):\n",
    "    ns = []\n",
    "    add = 0\n",
    "    for e in range(len(df)):\n",
    "        if df['Série diplôme'][e] == forme:\n",
    "            if isnan(df[epreuve][e]) == False:\n",
    "                ns.append(df[epreuve][e])\n",
    "    ecart_type = np.std(ns)\n",
    "    moyenne = np.mean(ns)\n",
    "    normalise = (df[epreuve][i]-moyenne)/ecart_type\n",
    "    return normalise"
   ]
  },
  {
   "cell_type": "code",
   "execution_count": null,
   "id": "a333d7ec",
   "metadata": {},
   "outputs": [],
   "source": [
    "normalisation_bac(1,\"Scientifique\",\"Note à l'épreuve de Mathématiques\")"
   ]
  },
  {
   "cell_type": "code",
   "execution_count": null,
   "id": "cc8f6271",
   "metadata": {},
   "outputs": [],
   "source": [
    "matiere = [\"Mathématiques\",\"Langue vivante A\",\"Langue vivante B\",\"Français\",\"Systemes d''information et numerique\"]\n",
    "trimestre = [\"Trimestre 1\",\"Trimestre 2\",\"Trimestre 3\"]"
   ]
  },
  {
   "cell_type": "code",
   "execution_count": null,
   "id": "f6e42637",
   "metadata": {},
   "outputs": [],
   "source": [
    "def normalisation_trimestre(df,i,matiere,trimestre):\n",
    "    Moy=df[\"Moyenne classe en \"+matiere+\" \"+trimestre][i]\n",
    "    Min=df[\"Moyenne plus basse en \"+matiere+\" \"+trimestre][i]\n",
    "    Max=df[\"Moyenne plus haute en \"+matiere+\" \"+trimestre][i]\n",
    "    Can=df[\"Moyenne candidat en \"+matiere+\" \"+trimestre][i]\n",
    "    if(isnan(Can)) : \n",
    "        return None\n",
    "    if(isnan(Moy) or isnan(Min) or isnan(Max)) :\n",
    "        return None\n",
    "    if(Max==Min) : \n",
    "        note = 0\n",
    "    else : \n",
    "        note=(Can-Moy)/(Max-Min)\n",
    "    return note\n"
   ]
  },
  {
   "cell_type": "code",
   "execution_count": null,
   "id": "f14bc07b",
   "metadata": {},
   "outputs": [],
   "source": [
    "COEF_GENERO = pd.DataFrame(\n",
    "    {\n",
    "        'Mathématiques': [1,2,3,2,3,4,13,8,10], \n",
    "        'SCIENCES': [1,2,3,2,3,4,4,8,None], \n",
    "        \"Systemes d''information et numerique\": [1,1,1,2,2,2,6,9,None],   \n",
    "        \"Informatique et Sciences du numérique\": [1,1,1,2,2,2,6,8,None], \n",
    "        'Langue vivante A': [1,1,1,1,1,1,4,8,None], \n",
    "        'Langue vivante B': [1,1,1,1,1,1,4,8,None],\n",
    "        'Français': [1,1,1,1,1,1,9,8,None]\n",
    "    },\n",
    "    index = ['P1', 'P2', 'P3', 'T1', 'T2', 'T3', 'COEF', 'PLANCHE_GEN','PLANCHE_STI2D']\n",
    ")"
   ]
  },
  {
   "cell_type": "code",
   "execution_count": null,
   "id": "52de127e",
   "metadata": {},
   "outputs": [],
   "source": [
    "COEF_GENERO['Mathématiques']['PLANCHE_GEN']"
   ]
  },
  {
   "cell_type": "code",
   "execution_count": null,
   "id": "5665a432",
   "metadata": {},
   "outputs": [],
   "source": [
    "def moyenne_mat(df,i,matiere):\n",
    "    tri = [\"Trimestre 1.1\",\"Trimestre 2.1\",\"Trimestre 3.1\",\"Trimestre 1\",\"Trimestre 2\",\"Trimestre 3\"]\n",
    "    z = 0\n",
    "    d = 0\n",
    "    divis = 0\n",
    "    for e in tri:\n",
    "        mns = normalisation_trimestre(df,i,matiere,e)\n",
    "        if mns != None:\n",
    "            mnse = mns*COEF_GENERO[matiere][d]\n",
    "            divis += COEF_GENERO[matiere][d]\n",
    "            z += mnse\n",
    "        d+=1\n",
    "    if z != 0:\n",
    "        res1 = z/divis\n",
    "        return res1\n",
    "    "
   ]
  },
  {
   "cell_type": "code",
   "execution_count": null,
   "id": "b88462a3",
   "metadata": {},
   "outputs": [],
   "source": [
    "moyenne_mat(df,11,\"Systemes d''information et numerique\")"
   ]
  },
  {
   "cell_type": "code",
   "execution_count": null,
   "id": "40082c76",
   "metadata": {},
   "outputs": [],
   "source": [
    "FR_Oral = df[\"Note à l'épreuve de Oral de Français (épreuve anticipée)\"]\n",
    "FR_Ecrit = df[\"Note à l'épreuve de Ecrit de Français (épreuve anticipée)\"]"
   ]
  },
  {
   "cell_type": "code",
   "execution_count": null,
   "id": "7d77d9cd",
   "metadata": {},
   "outputs": [],
   "source": [
    "a = recupDBC(df,456)\n",
    "a[0]\n"
   ]
  },
  {
   "cell_type": "code",
   "execution_count": null,
   "id": "08cb3a60",
   "metadata": {},
   "outputs": [],
   "source": [
    "\n",
    "start = time.time()\n",
    "df = pd.read_excel(\"PS_INFO.xlsx\")\n",
    "for i in range(len(df)):\n",
    "    np.seterr(all='ignore')\n",
    "    recupDBC(df,i)\n",
    "end = time.time()\n",
    "elapsed = end - start\n",
    "\n",
    "print(elapsed)"
   ]
  },
  {
   "cell_type": "code",
   "execution_count": null,
   "id": "4a96f1f8",
   "metadata": {},
   "outputs": [],
   "source": [
    "# Es-ce que le candidats à son Bac de Français ?\n",
    "def BAC_FR(i):\n",
    "    if (isnan(FR_Oral[i]) and isnan(FR_Ecrit[i])):\n",
    "        return \"NON\"\n",
    "    else :\n",
    "        return \"OUI\""
   ]
  },
  {
   "cell_type": "code",
   "execution_count": null,
   "id": "097ddad3",
   "metadata": {},
   "outputs": [],
   "source": [
    "def TRI_MANQUE(i,matiere):\n",
    "    T1=df[\"Moyenne candidat en \"+matiere+\" Trimestre 1.1\"][i]\n",
    "    T2=df[\"Moyenne candidat en \"+matiere+\" Trimestre 2.1\"][i]\n",
    "    T3=df[\"Moyenne candidat en \"+matiere+\" Trimestre 3.1\"][i]\n",
    "    P1=df[\"Moyenne candidat en \"+matiere+\" Trimestre 1.1\"][i]\n",
    "    P2=df[\"Moyenne candidat en \"+matiere+\" Trimestre 2.1\"][i]\n",
    "    P3=df[\"Moyenne candidat en \"+matiere+\" Trimestre 3.1\"][i]\n",
    "    PREMIERE = True\n",
    "    TERMINALE = True\n",
    "    if (isnan(P1) == False and isnan(P2) == False) and isnan(P3) == False:\n",
    "        PREMIERE = False\n",
    "    else:\n",
    "        PREMIERE = True\n",
    "        \n",
    "    if (isnan(T1) == False and isnan(T2) == False) and isnan(T3) == False:\n",
    "        TERMINALE = False\n",
    "    else:\n",
    "        TERMINALE = True\n",
    "        \n",
    "    if TERMINALE and PREMIERE == False:\n",
    "        return False\n",
    "    else:\n",
    "        return True\n",
    "    "
   ]
  },
  {
   "cell_type": "code",
   "execution_count": null,
   "id": "5363dff1",
   "metadata": {},
   "outputs": [],
   "source": [
    "def MAT_FR(i):\n",
    "    P1=df[\"Moyenne candidat en Français Trimestre 1.1\"][i]\n",
    "    P2=df[\"Moyenne candidat en Français Trimestre 2.1\"][i]\n",
    "    P3=df[\"Moyenne candidat en Français Trimestre 3.1\"][i]\n",
    "    if (isnan(P1) == False and isnan(P2) == False) and isnan(P3) == False:\n",
    "        return \"OUI\"\n",
    "    else:\n",
    "        return \"NON\""
   ]
  },
  {
   "cell_type": "code",
   "execution_count": null,
   "id": "3ffa1092",
   "metadata": {},
   "outputs": [],
   "source": [
    "def recupDBC(df,i):\n",
    "    #Création de matière qui stock les notes du candidat\n",
    "    matiere = pd.DataFrame()\n",
    "    #Création d'une DataFrame pour le Candidats i\n",
    "    DBC ={\n",
    "        'Validation':0,\n",
    "        'Num_Can':df['ID'][i],\n",
    "        'SEXE':df['Sexe'][i], \n",
    "        'ANGLAIS':'?',\n",
    "        'FILIERE':'?',\n",
    "        'FORMATION':'?',\n",
    "        'ANNEE_BAC':'?',\n",
    "        'Bourse': False, \n",
    "        'Nom_Eta' : df[\"Libellé établissement\"][i], \n",
    "        'Com_Eta' : df[\"Commune établissement\"][i], \n",
    "        'Depa_Eta' : df[\"Département établissement\"][i],\n",
    "        'COMMENTAIRE':'?'\n",
    "    }\n",
    "\n",
    "    NOTE_DBC = {\n",
    "        \"Num_Can\":df['ID'][i],\n",
    "        \"Mathématiques\":None,\n",
    "        \"Français\":None,\n",
    "        \"Informatique et Sciences du numérique\":None,\n",
    "        'Sciences économiques et sociales':None,\n",
    "        \"Anglais\":None\n",
    "    }\n",
    "    NOTE_STI2D = {\n",
    "        \"Num_Can\":df['ID'][i],\n",
    "        \"Mathématiques\":None,\n",
    "        \"Français\":None,\n",
    "        \"Systemes d''information et numerique\":None,\n",
    "        \"Anglais\":None \n",
    "    }\n",
    "    NOTE_SG = {\n",
    "        \"Num_Can\":df['ID'][i],\n",
    "        \"Mathématiques Spé\":None,\n",
    "        \"Français\":None,\n",
    "        \"Science\":None,\n",
    "        \"Informatique et Sciences du numérique\":None,\n",
    "        \"Anglais\":None\n",
    "    }\n",
    "    \n",
    "    \n",
    "    #Récupération des informations:\n",
    "    #Quelle est sa formations scolaire précédent sa candidatures\n",
    "    Form = df['Série diplôme'][i]\n",
    "    \n",
    "    \n",
    "    #Prise en compte des notes de BAC de Français\n",
    "    FR_Oral = df[\"Note à l'épreuve de Oral de Français (épreuve anticipée)\"][i]\n",
    "    FR_Ecrit = df[\"Note à l'épreuve de Ecrit de Français (épreuve anticipée)\"][i]   \n",
    "    \n",
    "    \n",
    "    #Le Candidats est-il boursier ?\n",
    "    if(df[\"Boursier\"][i] in [\"Boursier de l'enseignement supérieur\", 'Boursier du secondaire']) : \n",
    "        DBC['Bourse'] = True # Mise à jour de sa situation de bourse\n",
    "        \n",
    "    #Es-ce que le candidats est en formation Générale ou Technologique ?\n",
    "    if df[\"Groupe\"][i] == 7415:\n",
    "        DBC['FILIERE']='Générale'\n",
    "    else : \n",
    "        DBC['FILIERE']='Technologique'\n",
    "    #Année de Terminale/BAC\n",
    "    DBC[\"ANNEE_BAC\"] = df[\"Année scolaire\"][i]\n",
    "        \n",
    "    \n",
    "    #On vas attrivuer des points:\n",
    "    # -1 vaut une élémination\n",
    "    #  0 sa candidatures sera prise en compte en manuel\n",
    "    #  1 sa candidatures vas être \n",
    "    if(df['Candidature validée (O/N)'][i]=='Non') : \n",
    "        # Si non validé éléminé\n",
    "        DBC['Validation']= -1    \n",
    "        DBC['COMMENTAIRE'] = \"N'a pas Validé sa candidature ParcourSup\"\n",
    "        return DBC, matiere\n",
    "    # On recherche les DAEU Mathématiques.\n",
    "    # Dans un premier temps nous n'avons que les noms en DAEU\n",
    "    elif Form == \"DAEU\" : \n",
    "        # On recherche plus précisemment les Daeu-b qui sont les DAEU MAthématiques\n",
    "        if df[\"Spécialité diplôme bac Pro et anciens bacs\"][i] == \"Daeu-b\" :\n",
    "            # Dossier manuel\n",
    "            DBC['Validation']=0\n",
    "            DBC['Autre_Form']=\"Daeu-b\"\n",
    "            DBC['COMMENTAIRE'] = \"La candidat a un DAEAU-B, donc Scientifique\"\n",
    "            return DBC , matiere\n",
    "        else:\n",
    "            # Si DAEU-a, donc Littérature éléminé\n",
    "            DBC['Validation']=-1\n",
    "            DBC['COMMENTAIRE'] = \"La candidat a un DAEAU-A, donc de Littérature\"\n",
    "            return DBC , matiere\n",
    "            \n",
    "            \n",
    "    # On recherche les anciens Bac ou Bac Internationale\n",
    "    elif(Form in [\"Bac général de plus de 15 ans\",\"Baccalauréat International\"]) : \n",
    "        #Bac en cours mais pas classique => dossier à étudier à la main\n",
    "        DBC['Validation']=0\n",
    "        DBC['Autre_Form']=\"AUTRES\"\n",
    "        return DBC , matiere\n",
    "    \n",
    "    # On cherche les Bac Scientifiques, qui ont validé leur Bac de français\n",
    "    elif(Form==\"Scientifique\"): \n",
    "        if BAC_FR(i) == \"NON\":\n",
    "            DBC['Validation']= 0\n",
    "            DBC['FORMATION'] = \"Scientifique\"\n",
    "            DBC['COMMENTAIRE'] = \"N'a pas ses deux notes de Bac de Français\"\n",
    "            return DBC , matiere\n",
    "        else:\n",
    "            DBC[\"Validation\"]=1\n",
    "            DBC['FORMATION'] = \"Scientifique\"\n",
    "            #Mathématiques, les baccalauréat Scientifiques sont des \"Anciens Baccalauréat\", \n",
    "            #et ou on déjà passé leurs baccalauréat\n",
    "            math = []\n",
    "            if isnan(df[\"Note à l'épreuve de Mathématiques\"][i]) == True:\n",
    "                DBC['Validation']= 0\n",
    "                DBC['COMMENTAIRE'] = \"Aucune Notes de Mathématiques pour l'épreuve du BAC\"\n",
    "                return DBC, matiere\n",
    "            else:\n",
    "                math.append(normalisation_bac(i,\"Scientifique\",\"Note à l'épreuve de Mathématiques\"))\n",
    "                NOTE_DBC['Mathématiques']= math[0]\n",
    "\n",
    "            #Français\n",
    "            fre = float(normalisation_bac(i,\"Scientifique\",\"Note à l'épreuve de Ecrit de Français (épreuve anticipée)\"))\n",
    "            fro = float(normalisation_bac(i,\"Scientifique\",\"Note à l'épreuve de Oral de Français (épreuve anticipée)\"))\n",
    "            frt = (fre+fro)/2\n",
    "            NOTE_DBC['Français']= frt\n",
    "\n",
    "            #Spécialité pour le baccalauréat Scientifique, les notes de Mathématiques Spé , sont incluse avec la note de Math\n",
    "            # On ne vas rechercher que les notes d'ISN\n",
    "            SPE=df[\"Note à l'épreuve de Informatique et Sciences du numérique\"][i]\n",
    "            nsi = normalisation_bac(i,\"Scientifique\",\"Note à l'épreuve de Informatique et Sciences du numérique\")\n",
    "            if isnan(SPE) == False  :\n",
    "                NSI = \"OK\"\n",
    "                NOTE_DBC[\"Informatique et Sciences du numérique\"]= nsi\n",
    "            else:\n",
    "                NSI = \"NON\"\n",
    "\n",
    "\n",
    "\n",
    "            #Anglais\n",
    "            LV1=df[\"LV1\"][i]\n",
    "            LV11=df[\"LV1.1\"][i]\n",
    "            LV12=df[\"LV1.2\"][i]\n",
    "            LV2=df[\"LV2\"][i]\n",
    "            LV21=df[\"LV2.1\"][i]\n",
    "            LV22=df[\"LV2.2\"][i]\n",
    "            Choix = [\"Note à l'épreuve de Langue vivante 1\",\"Note à l'épreuve de Langue vivante 2\"]\n",
    "            angl=None\n",
    "            if((LV1==\"Anglais\" or LV11 ==\"Anglais\") or LV12 ==\"Anglais\"  ): \n",
    "                angl=\"Langue vivante 1\"\n",
    "                DBC[\"ANGLAIS\"] = \"LV1\"\n",
    "                agl = normalisation_bac(i,\"Scientifique\",\"Note à l'épreuve de Langue vivante 1\")\n",
    "\n",
    "            if((LV2==\"Anglais\" or LV21 ==\"Anglais\") or LV22 ==\"Anglais\"  ): \n",
    "                angl=\"Langue vivante 1\"\n",
    "                DBC[\"ANGLAIS\"] = \"LV2\"\n",
    "                agl = normalisation_bac(i,\"Scientifique\",\"Note à l'épreuve de Langue vivante 2\")\n",
    "\n",
    "            if(angl!=None) : \n",
    "                NOTE_DBC['Anglais']= agl \n",
    "            else:\n",
    "                if NSI == \"OK\":\n",
    "                    DBC['Validation']= 0\n",
    "                    DBC['COMMENTAIRE'] = \"Note de Français, MAthématiques et NSI OK. Aucune Note d'Anglais\"\n",
    "                else:\n",
    "                    DBC['Validation']= 0\n",
    "                    DBC['COMMENTAIRE'] = \"Note de Français, MAthématiques OK. Aucune Note d'Anglais\"\n",
    "            return DBC , NOTE_DBC\n",
    "\n",
    "    # Recherche des Bac ES\n",
    "    elif(Form==\"Economique et social\" ): \n",
    "        if BAC_FR(i) == \"NON\":\n",
    "            DBC['Validation']= 0\n",
    "            DBC['FORMATION'] = \"Economique et social\"\n",
    "            DBC['COMMENTAIRE'] = \"N'a pas ses deux notes de Bac de Français\"\n",
    "            return DBC , matiere\n",
    "        else:\n",
    "            DBC[\"Validation\"]=1\n",
    "            DBC['FORMATION'] = \"Economique et social\"\n",
    "            #Mathématiques, les baccalauréat Scientifiques sont des \"Anciens Baccalauréat\", \n",
    "            #et ou on déjà passé leurs baccalauréat\n",
    "            if isnan(df[\"Note à l'épreuve de Mathématiques\"][i]) == True:\n",
    "                DBC['Validation']= 0\n",
    "                DBC['COMMENTAIRE'] = \"Aucune Notes de Mathématiques pour l'épreuve du BAC\"\n",
    "                return DBC, matiere\n",
    "            else:\n",
    "                math = [] \n",
    "                math.append(normalisation_bac(i,\"Economique et social\",\"Note à l'épreuve de Mathématiques\"))\n",
    "                NOTE_DBC['Mathématiques']= math[0]\n",
    "\n",
    "            #Français\n",
    "            fre = float(normalisation_bac(i,\"Economique et social\",\"Note à l'épreuve de Ecrit de Français (épreuve anticipée)\"))\n",
    "            fro = float(normalisation_bac(i,\"Economique et social\",\"Note à l'épreuve de Oral de Français (épreuve anticipée)\"))\n",
    "            frt = (fre+fro)/2\n",
    "            NOTE_DBC['Français']= frt\n",
    "\n",
    "            #SES\n",
    "            if isnan(df[\"Note à l'épreuve de Sciences économiques et sociales (SES)\"][i]) == True:\n",
    "                DBC['Validation']= 0\n",
    "                DBC['COMMENTAIRE'] = \"Aucune Notes de SES\"\n",
    "                return DBC, matiere\n",
    "            else:\n",
    "                ses = normalisation_bac(i,\"Economique et social\",\"Note à l'épreuve de Sciences économiques et sociales (SES)\")\n",
    "                NOTE_DBC['Sciences économiques et sociales']= ses\n",
    "\n",
    "            #Spécialité pour le baccalauréat Scientifique, les notes de Mathématiques Spé , sont incluse avec la note de Math\n",
    "            # On ne vas rechercher que les notes d'ISN\n",
    "            SPE=df[\"Note à l'épreuve de Informatique et Sciences du numérique\"][i]\n",
    "            nsi = normalisation_bac(i,\"Economique et social\",\"Note à l'épreuve de Informatique et Sciences du numérique\")\n",
    "            if isnan(SPE) == False  :\n",
    "                NSI = \"OK\"\n",
    "                NOTE_DBC[\"Informatique et Sciences du numérique\"]= nsi\n",
    "            else:\n",
    "                NSI = \"NON\"\n",
    "            #Anglais\n",
    "            LV1=df[\"LV1\"][i]\n",
    "            LV11=df[\"LV1.1\"][i]\n",
    "            LV12=df[\"LV1.2\"][i]\n",
    "            LV2=df[\"LV2\"][i]\n",
    "            LV21=df[\"LV2.1\"][i]\n",
    "            LV22=df[\"LV2.2\"][i]\n",
    "            Choix = [\"Note à l'épreuve de Langue vivante 1\",\"Note à l'épreuve de Langue vivante 2\"]\n",
    "            angl=None\n",
    "            if((LV1==\"Anglais\" or LV11 ==\"Anglais\") or LV12 ==\"Anglais\"  ): \n",
    "                angl=\"Langue vivante 1\"\n",
    "                DBC[\"ANGLAIS\"] = \"LV1\"\n",
    "                agl = normalisation_bac(i,\"Economique et social\",\"Note à l'épreuve de Langue vivante 1\")\n",
    "\n",
    "            if((LV2==\"Anglais\" or LV21 ==\"Anglais\") or LV22 ==\"Anglais\"  ): \n",
    "                angl=\"Langue vivante 2\"\n",
    "                DBC[\"ANGLAIS\"] = \"LV2\"\n",
    "                agl = normalisation_bac(i,\"Economique et social\",\"Note à l'épreuve de Langue vivante 2\")\n",
    "\n",
    "            if(angl!=None) : \n",
    "                NOTE_DBC['Anglais']= agl \n",
    "            else:\n",
    "                if NSI == \"OK\":\n",
    "                    DBC['Validation']= 0\n",
    "                    DBC['COMMENTAIRE'] = \"Note de Français, MAthématiques et NSI OK. Aucune Note d'Anglais\"\n",
    "                else:\n",
    "                    DBC['Validation']= 0\n",
    "                    DBC['COMMENTAIRE'] = \"Note de Français, MAthématiques OK. Aucune Note d'Anglais\"\n",
    "            return DBC , NOTE_DBC\n",
    "    # Recherche des candidats STI2D        \n",
    "    elif(Form==\"Sciences et Technologies de l'Industrie et du Développement Durable\") : \n",
    "        if MAT_FR(i) == \"NON\":\n",
    "            DBC['Validation']= 0\n",
    "            DBC['FORMATION'] = \"Sciences et Technologies de l'Industrie et du Développement Durable\"\n",
    "            DBC['COMMENTAIRE'] = \"Manque une note ou plus dans la matière 'Français'\"\n",
    "            return DBC , matiere\n",
    "        else:\n",
    "            \n",
    "            DBC['Validation']=1\n",
    "            DBC['FORMATION'] = \"Sciences et Technologies de l'Industrie et du Développement Durable\"\n",
    "\n",
    "            #Math\n",
    "            math = []\n",
    "            if TRI_MANQUE(i,\"Mathématiques\") == False:\n",
    "                DBC['Validation']= 0\n",
    "                DBC['COMMENTAIRE'] = \"Manque une notes ou plus en Mathématiques\"\n",
    "                return DBC, matiere\n",
    "            else:\n",
    "                math.append(moyenne_mat(df,i,\"Mathématiques\"))\n",
    "                NOTE_STI2D['Mathématiques']= math[0]\n",
    "\n",
    "            #Informatique\n",
    "            if moyenne_mat(df,i,\"Systemes d''information et numerique\") == None:\n",
    "                NSI = \"NON\"\n",
    "            else:\n",
    "                nsi = moyenne_mat(df,i,\"Systemes d''information et numerique\")\n",
    "                NOTE_STI2D[\"Systemes d''information et numerique\"]= nsi\n",
    "                NSI = \"OK\"\n",
    "            #Français\n",
    "            fr = moyenne_mat(df,i,\"Français\")\n",
    "            NOTE_STI2D['Français']=  fr   \n",
    "\n",
    "            #Anglais\n",
    "            LV1=df[\"LV1\"][i]\n",
    "            LV2=df[\"LV2\"][i]\n",
    "            mat=None\n",
    "            if(LV1==\"Anglais\") : \n",
    "                mat=\"Langue vivante A\"\n",
    "                DBC[\"ANGLAIS\"] = \"LV1\"\n",
    "            if(LV2==\"Anglais\") : \n",
    "                mat=\"Langue vivante B\"\n",
    "                DBC[\"ANGLAIS\"] = \"LV2\"\n",
    "\n",
    "            if(mat!=None) : \n",
    "                angl = moyenne_mat(df,i,mat)\n",
    "                NOTE_STI2D['Anglais']= angl\n",
    "            else:\n",
    "                if NSI == \"OK\":\n",
    "                    DBC['Validation']= 0\n",
    "                    DBC['COMMENTAIRE'] = \"Note de Français, MAthématiques et Systemes d''information et numerique OK. Aucune Note d'Anglais\"\n",
    "                else:\n",
    "                    DBC['Validation']= 0\n",
    "                    DBC['COMMENTAIRE'] = \"Note de Français, MAthématiques OK. Aucune Note d'Anglais\"\n",
    "            return DBC , NOTE_STI2D\n",
    "\n",
    "    #Recherche des candidats de Série Générale (nouveau bac)\n",
    "    elif(Form=='Série Générale'): \n",
    "        if MAT_FR(i) == \"NON\":\n",
    "            DBC['Validation']= 0\n",
    "            DBC['FORMATION'] = 'Série Générale'\n",
    "            DBC['COMMENTAIRE'] = \"Manque une note ou plus dans la matière 'Français'\"\n",
    "            return DBC , matiere\n",
    "        else:\n",
    "            DBC['Validation']=1\n",
    "            DBC['FORMATION'] = \"Série Générale\"\n",
    "            #Sciences\n",
    "            if \"Moyenne candidat en Enseignement scientifique Trimestre 1\" in df.columns:\n",
    "                matiere[\"NSI\"] = moyenne_mat(df,i,\"Enseignement scientifique\")\n",
    "            else:\n",
    "                DBC['Validation']= 0\n",
    "                DBC['COMMENTAIRE'] = \"Manque une note ou plus en Enseignement Scientifique, et autres matières\"\n",
    "            #Français\n",
    "            fr = []\n",
    "            fr.append(moyenne_mat(df,i,\"Français\"))\n",
    "            NOTE_SG['Français']= fr[0]\n",
    "\n",
    "            #Anglais\n",
    "            LV1=df[\"LV1\"][i]\n",
    "            LV2=df[\"LV2\"][i]\n",
    "            mat=None\n",
    "            if(LV1==\"Anglais\") : \n",
    "                mat=\"Langue vivante A\"\n",
    "                DBC[\"ANGLAIS\"] = \"LV1\"\n",
    "            if(LV2==\"Anglais\") : \n",
    "                mat=\"Langue vivante B\"\n",
    "                DBC[\"ANGLAIS\"] = \"LV2\"\n",
    "\n",
    "            if(mat!=None) : \n",
    "                angl = moyenne_mat(df,i,mat)\n",
    "                NOTE_SG['Anglais']= angl\n",
    "            else:\n",
    "                if NSI == \"OK\":\n",
    "                    DBC['Validation']= 0\n",
    "                    DBC['COMMENTAIRE'] = \"Note de Français, MAthématiques et NSI OK. Aucune Note d'Anglais\"\n",
    "                else:\n",
    "                    DBC['Validation']= 0\n",
    "                    DBC['COMMENTAIRE'] = \"Note de Français, MAthématiques OK. Aucune Note d'Anglais\"\n",
    "                return DBC , NOTE_DBC\n",
    "\n",
    "            #Enseignements de spécialités\n",
    "            mat1 = df[\"EDS BAC Terminale\"][i]\n",
    "            mat2 = df[\"EDS BAC Terminale.1\"][i]\n",
    "            if (mat1 == \"Mathématiques Spécialité\") or (mat2 == \"Numérique et Sciences Informatiques\"):\n",
    "                if \"Moyenne candidat en Mathématiques Spécialité Trimestre 1\" in df.columns:\n",
    "                    NOTE_SG[\"Mathématiques Spé\"] = moyenne_mat(df,i,\"Mathématiques Spécialité\")\n",
    "                if \"Moyenne candidat en Numérique et Sciences Informatiques Trimestre 1\" in df.columns:\n",
    "                    NOTE_SG[\"Informatique et Sciences du numérique\"] = moyenne_mat(df,i,\"Numérique et Sciences Informatiques\")\n",
    "        #Si le candidats ne rentres dans aucune des conditions  \n",
    "            return DBC , NOTE_SG\n",
    "    else :\n",
    "        DBC['Validation']=-1\n",
    "        DBC['FORMATION'] = Form\n",
    "        com = \"Formation :'\"+str(Form)+\"' qui ne correspond pas aux critères\"\n",
    "        DBC['COMMENTAIRE'] = com\n",
    "        return DBC , matiere\n",
    "    "
   ]
  },
  {
   "cell_type": "code",
   "execution_count": null,
   "id": "b05a3cd2",
   "metadata": {},
   "outputs": [],
   "source": [
    "NOTE_STI2D"
   ]
  },
  {
   "cell_type": "code",
   "execution_count": 281,
   "id": "4e618267",
   "metadata": {},
   "outputs": [
    {
     "data": {
      "text/plain": [
       "\"\\nAC = pd.DataFrame.from_dict(ELIMINATION)\\nACT = AC.T\\nACT.to_excel('ELIMINATION.xlsx', index=False)\\nAC = pd.DataFrame.from_dict(FICHE_CANDIDATS_MANUEL)\\nACT = AC.T\\nACT.to_excel('FICHE_CANDIDATS_MANUEL.xlsx', index=False)\\nAC = pd.DataFrame.from_dict(FICHE_GENERAUX)\\nACT = AC.T\\nACT.to_excel('FICHE_GENERAUX.xlsx', index=False)\\nAC = pd.DataFrame.from_dict(NOTE_GENERAUX)\\nACT = AC.T\\nACT.to_excel('NOTE_GENERAUX.xlsx', index=False)\\nAC = pd.DataFrame.from_dict(FICHE_GENERAUX)\\nACT = AC.T\\nACT.to_excel('FICHE_STI2D.xlsx', index=False)\\nAC = pd.DataFrame.from_dict(NOTE_GENERAUX)\\nACT = AC.T   \\nACT.to_excel('NOTE_SSTI2D.xlsx', index=False)\\n\""
      ]
     },
     "execution_count": 281,
     "metadata": {},
     "output_type": "execute_result"
    }
   ],
   "source": [
    "ELIMINATION={}\n",
    "FICHE_CANDIDATS_MANUEL={}\n",
    "A_TRIER2={}\n",
    "FICHE_STI2D={}\n",
    "NOTE_STI2D = {}\n",
    "FICHE_GENERAUX={}\n",
    "NOTE_GENERAUX={}\n",
    "\n",
    "for i in range(len(df)) :\n",
    "    Form = df['Série diplôme'][i]\n",
    "    groupe = df['Groupe'][i]\n",
    "\n",
    "    FICHE , NOTES = recupDBC(df, i)\n",
    "    num= df['ID'][i]\n",
    "    \n",
    "    if(FICHE[\"Validation\"]==-1) : \n",
    "        ELIMINATION[num]=FICHE\n",
    "\n",
    "        \n",
    "    if(FICHE[\"Validation\"]==0) : \n",
    "        FICHE_CANDIDATS_MANUEL[num]=FICHE\n",
    "\n",
    "    if(FICHE[\"Validation\"]==1 and groupe== 7415) : \n",
    "        FICHE_GENERAUX[num]=FICHE\n",
    "        NOTE_GENERAUX[num]=NOTES\n",
    "\n",
    "    if(FICHE[\"Validation\"]==1 and groupe == 142309 ) : \n",
    "        FICHE_STI2D[num]=FICHE\n",
    "        NOTE_STI2D[num]=NOTES\n",
    "        \n",
    "'''\n",
    "AC = pd.DataFrame.from_dict(ELIMINATION)\n",
    "ACT = AC.T\n",
    "ACT.to_excel('ELIMINATION.xlsx', index=False)\n",
    "AC = pd.DataFrame.from_dict(FICHE_CANDIDATS_MANUEL)\n",
    "ACT = AC.T\n",
    "ACT.to_excel('FICHE_CANDIDATS_MANUEL.xlsx', index=False)\n",
    "AC = pd.DataFrame.from_dict(FICHE_GENERAUX)\n",
    "ACT = AC.T\n",
    "ACT.to_excel('FICHE_GENERAUX.xlsx', index=False)\n",
    "AC = pd.DataFrame.from_dict(NOTE_GENERAUX)\n",
    "ACT = AC.T\n",
    "ACT.to_excel('NOTE_GENERAUX.xlsx', index=False)\n",
    "AC = pd.DataFrame.from_dict(FICHE_GENERAUX)\n",
    "ACT = AC.T\n",
    "ACT.to_excel('FICHE_STI2D.xlsx', index=False)\n",
    "AC = pd.DataFrame.from_dict(NOTE_GENERAUX)\n",
    "ACT = AC.T   \n",
    "ACT.to_excel('NOTE_SSTI2D.xlsx', index=False)\n",
    "'''"
   ]
  },
  {
   "cell_type": "code",
   "execution_count": null,
   "id": "6ef837ee",
   "metadata": {},
   "outputs": [],
   "source": [
    "AC = pd.DataFrame.from_dict(A_CLASSE)\n",
    "ACT = AC.T\n",
    "ACT.to_excel('A_CLASSEE.xlsx', index=False)"
   ]
  },
  {
   "cell_type": "code",
   "execution_count": null,
   "id": "9d44011a",
   "metadata": {},
   "outputs": [],
   "source": [
    "NG = pd.DataFrame.from_dict(NOTE_GENERAUX)\n",
    "NGT = NG.T\n",
    "NGT_NEW = NGT"
   ]
  },
  {
   "cell_type": "code",
   "execution_count": null,
   "id": "19733be7",
   "metadata": {
    "scrolled": true
   },
   "outputs": [],
   "source": [
    "NGT"
   ]
  },
  {
   "cell_type": "markdown",
   "id": "c419f6f1",
   "metadata": {},
   "source": [
    "# CLASSEMENT DES GENERAUX"
   ]
  },
  {
   "cell_type": "code",
   "execution_count": 326,
   "id": "605feb1d",
   "metadata": {},
   "outputs": [],
   "source": [
    "NGT.loc[NGT['Informatique et Sciences du numérique'] == 0, 'Informatique et Sciences du numérique'] = np.nan\n"
   ]
  },
  {
   "cell_type": "code",
   "execution_count": 327,
   "id": "ad893b8a",
   "metadata": {},
   "outputs": [],
   "source": [
    "# Définir une fonction pour normaliser les notes\n",
    "def normalize_notes(column):\n",
    "    x_min = column.min()\n",
    "    x_max = column.max()\n",
    "    return 20 / (x_max - x_min) * (column - x_min)\n",
    "\n",
    "# Normaliser les notes sur une échelle de 0 à 20\n",
    "for col in ['Mathématiques', 'Français', 'Informatique et Sciences du numérique', 'Anglais','Sciences économiques et sociales']:\n",
    "    NGT[col] = normalize_notes(NGT[col])"
   ]
  },
  {
   "cell_type": "code",
   "execution_count": 328,
   "id": "1d05bafa",
   "metadata": {},
   "outputs": [],
   "source": [
    "coef_gen =[13,9,6,4,5]"
   ]
  },
  {
   "cell_type": "code",
   "execution_count": 329,
   "id": "e0015379",
   "metadata": {},
   "outputs": [],
   "source": [
    "def moyenne_cand(df,num,coef):\n",
    "    som = 0\n",
    "    divis = 0\n",
    "    e = 0\n",
    "    for mat in ['Mathématiques', 'Français', 'Informatique et Sciences du numérique', 'Anglais','Sciences économiques et sociales']:\n",
    "        if isnan(df[mat][i]) == False:\n",
    "            som += df[mat][i]*coef[e]\n",
    "            divis += coef[e]\n",
    "            e +=1\n",
    "    res = som/divis\n",
    "    return res\n",
    "            "
   ]
  },
  {
   "cell_type": "code",
   "execution_count": 330,
   "id": "3d3998f8",
   "metadata": {},
   "outputs": [],
   "source": [
    "numro = NGT[\"Num_Can\"].tolist()"
   ]
  },
  {
   "cell_type": "code",
   "execution_count": 331,
   "id": "88b00102",
   "metadata": {},
   "outputs": [],
   "source": [
    "for i in numro:\n",
    "    NGT.at[i, \"MOYENNE\"] = moyenne_cand(NGT,i,coef_gen)"
   ]
  },
  {
   "cell_type": "code",
   "execution_count": 332,
   "id": "4637d1ae",
   "metadata": {},
   "outputs": [],
   "source": [
    "CLAS = NGT.sort_values('MOYENNE', ascending=False)"
   ]
  },
  {
   "cell_type": "code",
   "execution_count": 336,
   "id": "ea3be212",
   "metadata": {},
   "outputs": [],
   "source": [
    "LISTE = CLAS[\"Num_Can\"].tolist()\n",
    "Classement_cand = {}\n",
    "\n",
    "i = 1\n",
    "while i <= len(LISTE):\n",
    "    num = LISTE[i-1]\n",
    "    Classement = {\n",
    "        'Classement': i,\n",
    "        'Num_Candidat': num,\n",
    "        \"Année du BAC\": FICHE_GENERAUX[num]['ANNEE_BAC'],\n",
    "        \"Bourse\": FICHE_GENERAUX[num][\"Bourse\"],\n",
    "        \"Moyenne\":CLAS[\"MOYENNE\"][num],\n",
    "        \"Mathématiques\":NGT[\"Mathématiques\"][num],\n",
    "        \"Français\":NGT[\"Français\"][num],\n",
    "        \"Systemes d''information et numerique\":NGT['Informatique et Sciences du numérique'][num],\n",
    "        'Sciences économiques et sociales':NGT['Sciences économiques et sociales'][num],\n",
    "        \"Anglais\":NGT[\"Anglais\"][num]\n",
    "    }\n",
    "    Classement_cand[int(LISTE[i-1])-1] = Classement  # affichage du classement courant\n",
    "    i += 1\n"
   ]
  },
  {
   "cell_type": "code",
   "execution_count": 337,
   "id": "e432e0f8",
   "metadata": {},
   "outputs": [],
   "source": [
    "LECLASSEMENT = pd.DataFrame.from_dict(Classement_cand)\n",
    "LECLASSEMENT = LECLASSEMENT.T\n",
    "LECLASSEMENT.to_excel(\"classe.xlsx\")"
   ]
  },
  {
   "cell_type": "markdown",
   "id": "3b1c6c3f",
   "metadata": {},
   "source": [
    "# Classement Candidats STI2D"
   ]
  },
  {
   "cell_type": "code",
   "execution_count": 311,
   "id": "2fee4ec5",
   "metadata": {},
   "outputs": [],
   "source": [
    "ST = pd.DataFrame.from_dict(NOTE_STI2D)\n",
    "STT = ST.T"
   ]
  },
  {
   "cell_type": "code",
   "execution_count": 312,
   "id": "6f0ae280",
   "metadata": {},
   "outputs": [],
   "source": [
    "# Définir une fonction pour normaliser les notes\n",
    "def normalize_notes(column):\n",
    "    x_min = column.min()\n",
    "    x_max = column.max()\n",
    "    if x_max != x_min:\n",
    "        return 20 / (x_max - x_min) * (column - x_min)\n",
    "    else:\n",
    "        return None\n",
    "\n",
    "# Normaliser les notes sur une échelle de 0 à 20\n",
    "for col in ['Mathématiques', 'Français', \"Systemes d''information et numerique\", 'Anglais']:\n",
    "    STT[col] = normalize_notes(STT[col])\n"
   ]
  },
  {
   "cell_type": "code",
   "execution_count": null,
   "id": "fbb66f93",
   "metadata": {},
   "outputs": [],
   "source": []
  },
  {
   "cell_type": "code",
   "execution_count": 315,
   "id": "b4b04e34",
   "metadata": {},
   "outputs": [],
   "source": [
    "coef_stid =[13,9,6,4]"
   ]
  },
  {
   "cell_type": "code",
   "execution_count": 316,
   "id": "1bc06c38",
   "metadata": {},
   "outputs": [],
   "source": [
    "def moyenne_cand(df,num,coef):\n",
    "    som = 0\n",
    "    divis = 0\n",
    "    e = 0\n",
    "    for mat in ['Mathématiques', 'Français', \"Systemes d''information et numerique\", 'Anglais']:\n",
    "        if isnan(df[mat][i]) == False:\n",
    "            som += df[mat][i]*coef[e]\n",
    "            divis += coef[e]\n",
    "            e +=1\n",
    "    res = som/divis\n",
    "    return res\n",
    "            "
   ]
  },
  {
   "cell_type": "code",
   "execution_count": 317,
   "id": "80cf2a97",
   "metadata": {},
   "outputs": [],
   "source": [
    "numro = STT[\"Num_Can\"].tolist()"
   ]
  },
  {
   "cell_type": "code",
   "execution_count": 318,
   "id": "717005a5",
   "metadata": {},
   "outputs": [
    {
     "ename": "TypeError",
     "evalue": "must be real number, not NoneType",
     "output_type": "error",
     "traceback": [
      "\u001b[1;31m---------------------------------------------------------------------------\u001b[0m",
      "\u001b[1;31mTypeError\u001b[0m                                 Traceback (most recent call last)",
      "\u001b[1;32m~\\AppData\\Local\\Temp\\ipykernel_18184\\3537197458.py\u001b[0m in \u001b[0;36m<module>\u001b[1;34m\u001b[0m\n\u001b[0;32m      1\u001b[0m \u001b[1;32mfor\u001b[0m \u001b[0mi\u001b[0m \u001b[1;32min\u001b[0m \u001b[0mnumro\u001b[0m\u001b[1;33m:\u001b[0m\u001b[1;33m\u001b[0m\u001b[1;33m\u001b[0m\u001b[0m\n\u001b[1;32m----> 2\u001b[1;33m     \u001b[0mSTT\u001b[0m\u001b[1;33m.\u001b[0m\u001b[0mat\u001b[0m\u001b[1;33m[\u001b[0m\u001b[0mi\u001b[0m\u001b[1;33m,\u001b[0m \u001b[1;34m\"MOYENNE\"\u001b[0m\u001b[1;33m]\u001b[0m \u001b[1;33m=\u001b[0m \u001b[0mmoyenne_cand\u001b[0m\u001b[1;33m(\u001b[0m\u001b[0mSTT\u001b[0m\u001b[1;33m,\u001b[0m\u001b[0mi\u001b[0m\u001b[1;33m,\u001b[0m\u001b[0mcoef_stid\u001b[0m\u001b[1;33m)\u001b[0m\u001b[1;33m\u001b[0m\u001b[1;33m\u001b[0m\u001b[0m\n\u001b[0m",
      "\u001b[1;32m~\\AppData\\Local\\Temp\\ipykernel_18184\\4294436136.py\u001b[0m in \u001b[0;36mmoyenne_cand\u001b[1;34m(df, num, coef)\u001b[0m\n\u001b[0;32m      4\u001b[0m     \u001b[0me\u001b[0m \u001b[1;33m=\u001b[0m \u001b[1;36m0\u001b[0m\u001b[1;33m\u001b[0m\u001b[1;33m\u001b[0m\u001b[0m\n\u001b[0;32m      5\u001b[0m     \u001b[1;32mfor\u001b[0m \u001b[0mmat\u001b[0m \u001b[1;32min\u001b[0m \u001b[1;33m[\u001b[0m\u001b[1;34m'Mathématiques'\u001b[0m\u001b[1;33m,\u001b[0m \u001b[1;34m'Français'\u001b[0m\u001b[1;33m,\u001b[0m \u001b[1;34m\"Systemes d''information et numerique\"\u001b[0m\u001b[1;33m,\u001b[0m \u001b[1;34m'Anglais'\u001b[0m\u001b[1;33m]\u001b[0m\u001b[1;33m:\u001b[0m\u001b[1;33m\u001b[0m\u001b[1;33m\u001b[0m\u001b[0m\n\u001b[1;32m----> 6\u001b[1;33m         \u001b[1;32mif\u001b[0m \u001b[0misnan\u001b[0m\u001b[1;33m(\u001b[0m\u001b[0mdf\u001b[0m\u001b[1;33m[\u001b[0m\u001b[0mmat\u001b[0m\u001b[1;33m]\u001b[0m\u001b[1;33m[\u001b[0m\u001b[0mi\u001b[0m\u001b[1;33m]\u001b[0m\u001b[1;33m)\u001b[0m \u001b[1;33m==\u001b[0m \u001b[1;32mFalse\u001b[0m\u001b[1;33m:\u001b[0m\u001b[1;33m\u001b[0m\u001b[1;33m\u001b[0m\u001b[0m\n\u001b[0m\u001b[0;32m      7\u001b[0m             \u001b[0msom\u001b[0m \u001b[1;33m+=\u001b[0m \u001b[0mdf\u001b[0m\u001b[1;33m[\u001b[0m\u001b[0mmat\u001b[0m\u001b[1;33m]\u001b[0m\u001b[1;33m[\u001b[0m\u001b[0mi\u001b[0m\u001b[1;33m]\u001b[0m\u001b[1;33m*\u001b[0m\u001b[0mcoef\u001b[0m\u001b[1;33m[\u001b[0m\u001b[0me\u001b[0m\u001b[1;33m]\u001b[0m\u001b[1;33m\u001b[0m\u001b[1;33m\u001b[0m\u001b[0m\n\u001b[0;32m      8\u001b[0m             \u001b[0mdivis\u001b[0m \u001b[1;33m+=\u001b[0m \u001b[0mcoef\u001b[0m\u001b[1;33m[\u001b[0m\u001b[0me\u001b[0m\u001b[1;33m]\u001b[0m\u001b[1;33m\u001b[0m\u001b[1;33m\u001b[0m\u001b[0m\n",
      "\u001b[1;31mTypeError\u001b[0m: must be real number, not NoneType"
     ]
    }
   ],
   "source": [
    "for i in numro:\n",
    "    STT.at[i, \"MOYENNE\"] = moyenne_cand(STT,i,coef_stid)"
   ]
  },
  {
   "cell_type": "code",
   "execution_count": 304,
   "id": "7d90bfb9",
   "metadata": {},
   "outputs": [
    {
     "ename": "KeyError",
     "evalue": "'MOYENNE'",
     "output_type": "error",
     "traceback": [
      "\u001b[1;31m---------------------------------------------------------------------------\u001b[0m",
      "\u001b[1;31mKeyError\u001b[0m                                  Traceback (most recent call last)",
      "\u001b[1;32m~\\AppData\\Local\\Temp\\ipykernel_18184\\3338899671.py\u001b[0m in \u001b[0;36m<module>\u001b[1;34m\u001b[0m\n\u001b[1;32m----> 1\u001b[1;33m \u001b[0mCLASSTD\u001b[0m \u001b[1;33m=\u001b[0m \u001b[0mSTT\u001b[0m\u001b[1;33m.\u001b[0m\u001b[0msort_values\u001b[0m\u001b[1;33m(\u001b[0m\u001b[1;34m'MOYENNE'\u001b[0m\u001b[1;33m,\u001b[0m \u001b[0mascending\u001b[0m\u001b[1;33m=\u001b[0m\u001b[1;32mFalse\u001b[0m\u001b[1;33m)\u001b[0m\u001b[1;33m\u001b[0m\u001b[1;33m\u001b[0m\u001b[0m\n\u001b[0m",
      "\u001b[1;32m~\\anaconda3\\lib\\site-packages\\pandas\\util\\_decorators.py\u001b[0m in \u001b[0;36mwrapper\u001b[1;34m(*args, **kwargs)\u001b[0m\n\u001b[0;32m    309\u001b[0m                     \u001b[0mstacklevel\u001b[0m\u001b[1;33m=\u001b[0m\u001b[0mstacklevel\u001b[0m\u001b[1;33m,\u001b[0m\u001b[1;33m\u001b[0m\u001b[1;33m\u001b[0m\u001b[0m\n\u001b[0;32m    310\u001b[0m                 )\n\u001b[1;32m--> 311\u001b[1;33m             \u001b[1;32mreturn\u001b[0m \u001b[0mfunc\u001b[0m\u001b[1;33m(\u001b[0m\u001b[1;33m*\u001b[0m\u001b[0margs\u001b[0m\u001b[1;33m,\u001b[0m \u001b[1;33m**\u001b[0m\u001b[0mkwargs\u001b[0m\u001b[1;33m)\u001b[0m\u001b[1;33m\u001b[0m\u001b[1;33m\u001b[0m\u001b[0m\n\u001b[0m\u001b[0;32m    312\u001b[0m \u001b[1;33m\u001b[0m\u001b[0m\n\u001b[0;32m    313\u001b[0m         \u001b[1;32mreturn\u001b[0m \u001b[0mwrapper\u001b[0m\u001b[1;33m\u001b[0m\u001b[1;33m\u001b[0m\u001b[0m\n",
      "\u001b[1;32m~\\anaconda3\\lib\\site-packages\\pandas\\core\\frame.py\u001b[0m in \u001b[0;36msort_values\u001b[1;34m(self, by, axis, ascending, inplace, kind, na_position, ignore_index, key)\u001b[0m\n\u001b[0;32m   6320\u001b[0m \u001b[1;33m\u001b[0m\u001b[0m\n\u001b[0;32m   6321\u001b[0m             \u001b[0mby\u001b[0m \u001b[1;33m=\u001b[0m \u001b[0mby\u001b[0m\u001b[1;33m[\u001b[0m\u001b[1;36m0\u001b[0m\u001b[1;33m]\u001b[0m\u001b[1;33m\u001b[0m\u001b[1;33m\u001b[0m\u001b[0m\n\u001b[1;32m-> 6322\u001b[1;33m             \u001b[0mk\u001b[0m \u001b[1;33m=\u001b[0m \u001b[0mself\u001b[0m\u001b[1;33m.\u001b[0m\u001b[0m_get_label_or_level_values\u001b[0m\u001b[1;33m(\u001b[0m\u001b[0mby\u001b[0m\u001b[1;33m,\u001b[0m \u001b[0maxis\u001b[0m\u001b[1;33m=\u001b[0m\u001b[0maxis\u001b[0m\u001b[1;33m)\u001b[0m\u001b[1;33m\u001b[0m\u001b[1;33m\u001b[0m\u001b[0m\n\u001b[0m\u001b[0;32m   6323\u001b[0m \u001b[1;33m\u001b[0m\u001b[0m\n\u001b[0;32m   6324\u001b[0m             \u001b[1;31m# need to rewrap column in Series to apply key function\u001b[0m\u001b[1;33m\u001b[0m\u001b[1;33m\u001b[0m\u001b[0m\n",
      "\u001b[1;32m~\\anaconda3\\lib\\site-packages\\pandas\\core\\generic.py\u001b[0m in \u001b[0;36m_get_label_or_level_values\u001b[1;34m(self, key, axis)\u001b[0m\n\u001b[0;32m   1838\u001b[0m             \u001b[0mvalues\u001b[0m \u001b[1;33m=\u001b[0m \u001b[0mself\u001b[0m\u001b[1;33m.\u001b[0m\u001b[0maxes\u001b[0m\u001b[1;33m[\u001b[0m\u001b[0maxis\u001b[0m\u001b[1;33m]\u001b[0m\u001b[1;33m.\u001b[0m\u001b[0mget_level_values\u001b[0m\u001b[1;33m(\u001b[0m\u001b[0mkey\u001b[0m\u001b[1;33m)\u001b[0m\u001b[1;33m.\u001b[0m\u001b[0m_values\u001b[0m\u001b[1;33m\u001b[0m\u001b[1;33m\u001b[0m\u001b[0m\n\u001b[0;32m   1839\u001b[0m         \u001b[1;32melse\u001b[0m\u001b[1;33m:\u001b[0m\u001b[1;33m\u001b[0m\u001b[1;33m\u001b[0m\u001b[0m\n\u001b[1;32m-> 1840\u001b[1;33m             \u001b[1;32mraise\u001b[0m \u001b[0mKeyError\u001b[0m\u001b[1;33m(\u001b[0m\u001b[0mkey\u001b[0m\u001b[1;33m)\u001b[0m\u001b[1;33m\u001b[0m\u001b[1;33m\u001b[0m\u001b[0m\n\u001b[0m\u001b[0;32m   1841\u001b[0m \u001b[1;33m\u001b[0m\u001b[0m\n\u001b[0;32m   1842\u001b[0m         \u001b[1;31m# Check for duplicates\u001b[0m\u001b[1;33m\u001b[0m\u001b[1;33m\u001b[0m\u001b[0m\n",
      "\u001b[1;31mKeyError\u001b[0m: 'MOYENNE'"
     ]
    }
   ],
   "source": [
    "CLASSTD = STT.sort_values('MOYENNE', ascending=False)"
   ]
  },
  {
   "cell_type": "code",
   "execution_count": 320,
   "id": "82a89630",
   "metadata": {},
   "outputs": [
    {
     "data": {
      "text/plain": [
       "19.405655052063796"
      ]
     },
     "execution_count": 320,
     "metadata": {},
     "output_type": "execute_result"
    }
   ],
   "source": [
    "STT[\"Français\"][3874]"
   ]
  },
  {
   "cell_type": "code",
   "execution_count": 322,
   "id": "43a59da8",
   "metadata": {},
   "outputs": [],
   "source": [
    "LISTE = CLASSTD[\"Num_Can\"].tolist()\n",
    "Classement_cand = {}\n",
    "\n",
    "i = 1\n",
    "while i <= len(LISTE):\n",
    "    num = LISTE[i-1]\n",
    "    Classement = {\n",
    "        'Classement': i,\n",
    "        'Num_Candidat': num,\n",
    "        \"Année du BAC\": FICHE_STI2D[num]['ANNEE_BAC'],\n",
    "        \"Bourse\": FICHE_STI2D[num][\"Bourse\"],\n",
    "        \"Moyenne\":CLASSTD[\"MOYENNE\"][num],\n",
    "        \"Mathématiques\":STT[\"Mathématiques\"][num],\n",
    "        \"Français\":STT[\"Français\"][num],\n",
    "        \"Systemes d''information et numerique\":STT[\"Systemes d''information et numerique\"][num],\n",
    "        \"Anglais\":STT[\"Anglais\"][num]\n",
    "        \n",
    "    }\n",
    "    Classement_cand[int(LISTE[i-1])-1] = Classement  # affichage du classement courant\n",
    "    i += 1\n"
   ]
  },
  {
   "cell_type": "code",
   "execution_count": 323,
   "id": "6f190b10",
   "metadata": {},
   "outputs": [
    {
     "data": {
      "text/plain": [
       "'2021-2022'"
      ]
     },
     "execution_count": 323,
     "metadata": {},
     "output_type": "execute_result"
    }
   ],
   "source": [
    "FICHE_STI2D[4604]['ANNEE_BAC']"
   ]
  },
  {
   "cell_type": "code",
   "execution_count": 325,
   "id": "5a7b4de6",
   "metadata": {},
   "outputs": [],
   "source": [
    "LECLASSEMENT = pd.DataFrame.from_dict(Classement_cand)\n",
    "LECLASSEMENT = LECLASSEMENT.T\n",
    "LECLASSEMENT.to_excel(\"classsthud.xlsx\")"
   ]
  }
 ],
 "metadata": {
  "kernelspec": {
   "display_name": "Python 3 (ipykernel)",
   "language": "python",
   "name": "python3"
  },
  "language_info": {
   "codemirror_mode": {
    "name": "ipython",
    "version": 3
   },
   "file_extension": ".py",
   "mimetype": "text/x-python",
   "name": "python",
   "nbconvert_exporter": "python",
   "pygments_lexer": "ipython3",
   "version": "3.9.13"
  }
 },
 "nbformat": 4,
 "nbformat_minor": 5
}
