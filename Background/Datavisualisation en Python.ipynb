{
 "cells": [
  {
   "cell_type": "markdown",
   "id": "continuous-certificate",
   "metadata": {},
   "source": [
    "<div id=\"haut2page\" style=\"border:3px solid black; padding:3%; font-size:314% ; text-align:center; background-color:rgba(255, 0, 0, 0.57);\">\n",
    "    Datavisualisation\n",
    "</div>\n",
    "<h3>Navigation dans la page</h3>\n",
    "<p>\n",
    "    Si c'est votre première visite dans ce TP, lisez attentivement chacun des points détaillé après ce paragraphe.<br>\n",
    "    Si vous avez déjà commencer à travailler sur ce TP et que vous souhaiter vous déplacer rapidement dans une partie précise vous pouvez choisir la partie que vous souhaitez rejoindre ci-dessous. N'oubliez pas de réexecuter les case contenant des bibliothèques nécessaire au reste du code. <br>\n",
    "    <details open>\n",
    "        <summary><strong style=\"font-size:1.414em;color:green;\">Menu de navigation</strong></summary>\n",
    "        <ul>\n",
    "            <li><a href=\"#haut2page\">Haut de page</a></li>\n",
    "            <li><a href=\"#Partie1\">Partie 1 : Retour sur les listes</a></li>\n",
    "            <li><a href=\"#Partie2\">Partie 2 : La bibliothèque <code>math</code></a></li>\n",
    "            <li><a href=\"#Partie3\">Partie 3 : Graphiques en python</a></li>\n",
    "        </ul>\n",
    "    </details>\n",
    "</p>\n",
    "\n",
    "<details>\n",
    "    <summary><strong style=\"font-size:1.414em\">Technologie jupyter</strong></summary>\n",
    "<p>\n",
    "    La technologie <em>jupyter</em> permet d'exécuter du code python par un simple clique sur <em>Executer</em> ci-dessus.<br> \n",
    "    Les morceaux de code de cette page sont interprétées case par case. Pour savoir quelle case a été interprétée avant une autre, il suffit de repérer le numéro devant la case. <br>\n",
    "    Une fois qu'une case a été interprétée (=exécutée), la page garde en mémoire les variables et fonctions lues<br>\n",
    "    La plateforme propose quelques outils de purge de la mémoire : \n",
    "    <ul>\n",
    "    <li>Il est possible de tout recommencer (dénuméroter) en choisissant dans le menu <em>Kernel</em> ci-dessus <em>Restart & Clear Output</em> pour purger la mémoire de toutes ses variables et de toutes ses executions </li> \n",
    "    <li>Dans le menu <em>Kernel</em> choisir <em>Restard & Run All</em> aura le même effet que <em>Restart & Clear Output</em> mais en plus relancera chacune des cases depuis le haut du document jusqu'en bas (renuméroter).</li>\n",
    "    </ul>\n",
    "</p>\n",
    "<div style=\"background-color:rgba(255, 0, 0, 0.19);padding:3%;\">\n",
    "    <h3 style=\"color:red;\">SAUVEGARDER VOTRE TRAVAIL</h3>\n",
    "    <p>\n",
    "        Pour ne pas perdre votre travail pensez à le sauvegarder régulièrement. Par défault, la sauvegarde par un clic sur la disquette en haut à gauche de page, ou par le racourci clavier classique <code>ctrl+S</code>\n",
    "    est une sauvegarde en local, sur le serveur de jupyter. Vous pouvez et devez très régulièrement sauvegarder votre travail sur votre support personnel de sauvegarde (clef USB, se l'envoyer par mail etc). Ce faisant vous disposerez d'un fichier  .ipynb (IPYthon NoteBook) qu'il vous suffira de recharger  pour avancer. Après le rechargement assurez vous que les fonctionnalités anciennement developpées et variables utilisées sont bien <em>dans la mémoire de la page</em> (en rééxecutant les cases, ou plus rapidement par <em>Kernel &gt; Restart & Run All</em>.</p>\n",
    "    <p> A NOTER : vous pouvez travailler sur le tp (et tout autre fichier .ipynb) hors connexion en installant une version local du notebook de jupyter. Il faut que votre machine possède un interpreteur de python et que vous soyez connecter à internet.\n",
    "        <ol>\n",
    "            <li>Lancer un terminal</li>\n",
    "            <li>Taper la commande suivante : <code>pip install jupyterlab</code></li>\n",
    "            <li>Une fois l'installation terminée portez votre attention sur les dernières lignes affichées dans votre terminal vous invitant probablement à taper une ligne de commande pour faire une mise à jour</li>\n",
    "            <li>Pour lancer notebook de jupyter, taper dans votre termial : <code>jupyter notebook</code></li>\n",
    "            <li>Votre simulateur de serveur est lancé. Il ne faut pas fermer votre terminal, auquel cas votre simulateur de serveur s'interompera. Suivez le lien indiqué dans les dernières lignes de votre terminal pour vous diriger vers votre espace local. L'interface se présente comme celle que vous trouverez sur le web. Votre travail sera cependant toujours enregistré et jamais perdu même si vous le consultez après plusieurs jours </li>\n",
    "        </ol>\n",
    "    </p>\n",
    "</div>\n",
    "</details>"
   ]
  },
  {
   "cell_type": "markdown",
   "id": "pressed-burden",
   "metadata": {},
   "source": [
    "<div id=\"Partie1\" style=\"border:3px solid black; padding:1%; font-size:213% ; text-align:center; color:white; background-color:black;\">\n",
    "    Retour sur les listes\n",
    "</div>\n",
    "<p>\n",
    "    <details>\n",
    "        <summary><strong style=\"font-size:1.414em;color:green;\">Menu de navigation</strong></summary>\n",
    "        <ul>\n",
    "            <li><a href=\"#haut2page\">Haut de page</a></li>\n",
    "            <li><a href=\"#Partie1\">Partie 1 : Retour sur les listes</a></li>\n",
    "            <li><a href=\"#Partie2\">Partie 2 : La bibliothèque <code>math</code></a></li>\n",
    "            <li><a href=\"#Partie3\">Partie 3 : Graphiques en python</a></li>\n",
    "        </ul>\n",
    "    </details>\n",
    "</p>"
   ]
  },
  {
   "cell_type": "markdown",
   "id": "proper-bradley",
   "metadata": {},
   "source": [
    "<p>Pour pouvoir réaliser des graphiques en python, nous avons besoin de spécifier des listes (de points). La fonction de base est la fonction <code style=\"color:green\">range</code> qui permet très rapidement d'énumeré des entiers (et non des nombres décimaux). Voici les trois utilisations possibles : \n",
    "<ol>\n",
    "    <li><code><span style=\"color:green\">range</span>(n)</code> qui donne la liste des entiers de <code>0</code> à <code>n-1</code>. Par exemple <code><span style=\"color:green\">range</span>(10)</code> donnera <code>[0, 1, 2, 3, 4, 5, 6, 7, 8, 9]</code> </li>\n",
    "    <li><code><span style=\"color:green\">range</span>(a, b)</code> qui donne la liste des entiers entre <code>a</code> et <code>b-1</code>. Par exemple <code><span style=\"color:green\">range</span>(3, 10)</code> donnera <code>[3, 4, 5, 6, 7, 8, 9]</code> </li>\n",
    "    <li><code><span style=\"color:green\">range</span>(a, b, p)</code> qui donne la liste des entiers entre <code>a</code> et <code>b-1</code> par bond de <code>p</code>. Par exemple <code><span style=\"color:green\">range</span>(3, 10, 3)</code> donnera <code>[3, 6, 9]</code> </li>\n",
    "</ol>\n",
    "\n",
    "En plus d'être une fonction <code>range</code> est un type en python. Pour s'en convaincre utilisons la fonction <code>type</code> qui renvoie le type d'une variable en python.\n",
    "</p>"
   ]
  },
  {
   "cell_type": "code",
   "execution_count": 30,
   "id": "reflected-sample",
   "metadata": {},
   "outputs": [
    {
     "name": "stdout",
     "output_type": "stream",
     "text": [
      "type de '10' : <class 'int'>\n",
      "type de '1.0' : <class 'float'>\n",
      "type de '[10]' : <class 'list'>\n",
      "type de 'range(10)' : <class 'range'>\n"
     ]
    }
   ],
   "source": [
    "#Le type 'int' pour les entiers\n",
    "x=10\n",
    "print(\"type de '10' :\", type(x))\n",
    "\n",
    "#Le type 'float' pour les réels\n",
    "x=1.0\n",
    "print(\"type de '1.0' :\", type(x))\n",
    "\n",
    "#Le type 'list' pour les listes\n",
    "x=[10]\n",
    "print(\"type de '[10]' :\", type(x))\n",
    "\n",
    "#Le type 'range' pour les listes organisées\n",
    "x=range(10)\n",
    "print(\"type de 'range(10)' :\", type(x))"
   ]
  },
  {
   "cell_type": "markdown",
   "id": "nuclear-affairs",
   "metadata": {},
   "source": [
    "<p>Pour passer d'un type à l'autre on réalise un <b>cast</b>. Pour cela on utilise les fonctions qui portent le nom des types.</p>"
   ]
  },
  {
   "cell_type": "code",
   "execution_count": 31,
   "id": "35105b30",
   "metadata": {},
   "outputs": [
    {
     "name": "stdout",
     "output_type": "stream",
     "text": [
      "x = 10\n",
      "type de 'x' : <class 'int'>\n",
      "type de 'float(x)' : <class 'float'>\n",
      "x = 1.0\n",
      "type de 'x' : <class 'float'>\n",
      "type de 'int(x)' : <class 'int'>\n"
     ]
    }
   ],
   "source": [
    "x=10\n",
    "print(\"x =\", x)\n",
    "print(\"type de 'x' :\", type(x))\n",
    "print(\"type de 'float(x)' :\", type(float(x)))\n",
    "\n",
    "x=1.0\n",
    "print(\"x =\", x)\n",
    "print(\"type de 'x' :\", type(x))\n",
    "print(\"type de 'int(x)' :\", type(int(x)))"
   ]
  },
  {
   "cell_type": "markdown",
   "id": "11195a75",
   "metadata": {},
   "source": [
    "<h3>Exercice</h3>\n",
    "</p>Afficher la <u>liste</u> des entiers impaires entre $123$ et $456$</p>"
   ]
  },
  {
   "cell_type": "code",
   "execution_count": 1,
   "id": "38f5f7c1",
   "metadata": {},
   "outputs": [
    {
     "name": "stdout",
     "output_type": "stream",
     "text": [
      "[123, 125, 127, 129, 131, 133, 135, 137, 139, 141, 143, 145, 147, 149, 151, 153, 155, 157, 159, 161, 163, 165, 167, 169, 171, 173, 175, 177, 179, 181, 183, 185, 187, 189, 191, 193, 195, 197, 199, 201, 203, 205, 207, 209, 211, 213, 215, 217, 219, 221, 223, 225, 227, 229, 231, 233, 235, 237, 239, 241, 243, 245, 247, 249, 251, 253, 255, 257, 259, 261, 263, 265, 267, 269, 271, 273, 275, 277, 279, 281, 283, 285, 287, 289, 291, 293, 295, 297, 299, 301, 303, 305, 307, 309, 311, 313, 315, 317, 319, 321, 323, 325, 327, 329, 331, 333, 335, 337, 339, 341, 343, 345, 347, 349, 351, 353, 355, 357, 359, 361, 363, 365, 367, 369, 371, 373, 375, 377, 379, 381, 383, 385, 387, 389, 391, 393, 395, 397, 399, 401, 403, 405, 407, 409, 411, 413, 415, 417, 419, 421, 423, 425, 427, 429, 431, 433, 435, 437, 439, 441, 443, 445, 447, 449, 451, 453, 455]\n"
     ]
    }
   ],
   "source": [
    "L = []\n",
    "for i in range(123,456,2):\n",
    "    L.append(i)\n",
    "print(L)"
   ]
  },
  {
   "cell_type": "markdown",
   "id": "general-equipment",
   "metadata": {},
   "source": [
    "<p>Il est possible de créer des listes de nombres pas forcément entiers de la manière suivante : \n",
    "<blockquote>\n",
    "    <code>y=[<em>fonction de x</em> for x in <em>valeur</em>]</code>\n",
    "</blockquote>\n",
    "Dans ce cas la liste <code>y</code> aura dans chacune de ses cases la valeur de <code>f(x)</code> pour les différentes valeurs prises par <code>x</code>. Par exemples si\n",
    "\n",
    "<blockquote>\n",
    "    <code>y=y=[5*x-5 for x in range(-9, 10, 2)]</code>\n",
    "</blockquote>\n",
    "alors \n",
    "<code>y=[-50, -40, -30, -20, -10, 0, 10, 20, 30, 40]</code>\n",
    "</p>"
   ]
  },
  {
   "cell_type": "code",
   "execution_count": 33,
   "id": "swedish-elite",
   "metadata": {},
   "outputs": [
    {
     "name": "stdout",
     "output_type": "stream",
     "text": [
      "[-50, -40, -30, -20, -10, 0, 10, 20, 30, 40]\n"
     ]
    }
   ],
   "source": [
    "y=[5*x-5 for x in range(-9, 10, 2)]\n",
    "print(y)"
   ]
  },
  {
   "cell_type": "markdown",
   "id": "muslim-drawing",
   "metadata": {},
   "source": [
    "<p>\n",
    "Il est également possible de spécifier une condition à l'aide de <code>if</code>. Par exemple\n",
    "<blockquote>\n",
    "    <code>y=[5*x-5 for x in range(-9, 10, 2) if(5*x-5!=0)]</code>\n",
    "</blockquote>\n",
    "affichera la même liste que précédement sauf $0$\n",
    "</p>"
   ]
  },
  {
   "cell_type": "code",
   "execution_count": 34,
   "id": "found-float",
   "metadata": {},
   "outputs": [
    {
     "name": "stdout",
     "output_type": "stream",
     "text": [
      "[-50, -40, -30, -20, -10, 10, 20, 30, 40]\n"
     ]
    }
   ],
   "source": [
    "y=[5*x-5 for x in range(-9, 10, 2) if(5*x-5!=0)]\n",
    "print(y)"
   ]
  },
  {
   "cell_type": "code",
   "execution_count": 35,
   "id": "9cc0083c",
   "metadata": {},
   "outputs": [
    {
     "name": "stdout",
     "output_type": "stream",
     "text": [
      "[123, 125, 127, 129, 131, 133, 135, 137, 139, 141, 143, 145, 147, 149, 151, 153, 155, 157, 159, 161, 163, 165, 167, 169, 171, 173, 175, 177, 179, 181, 183, 185, 187, 189, 191, 193, 195, 197, 199, 201, 203, 205, 207, 209, 211, 213, 215, 217, 219, 221, 223, 225, 227, 229, 231, 233, 235, 237, 239, 241, 243, 245, 247, 249, 251, 253, 255, 257, 259, 261, 263, 265, 267, 269, 271, 273, 275, 277, 279, 281, 283, 285, 287, 289, 291, 293, 295, 297, 299, 301, 303, 305, 307, 309, 311, 313, 315, 317, 319, 321, 323, 325, 327, 329, 331, 333, 335, 337, 339, 341, 343, 345, 347, 349, 351, 353, 355, 357, 359, 361, 363, 365, 367, 369, 371, 373, 375, 377, 379, 381, 383, 385, 387, 389, 391, 393, 395, 397, 399, 401, 403, 405, 407, 409, 411, 413, 415, 417, 419, 421, 423, 425, 427, 429, 431, 433, 435, 437, 439, 441, 443, 445, 447, 449, 451, 453, 455]\n"
     ]
    }
   ],
   "source": [
    "L = [x for x in range(123,456,2)]\n",
    "print(L)"
   ]
  },
  {
   "cell_type": "markdown",
   "id": "resident-possession",
   "metadata": {},
   "source": [
    "<h3>Exercice</h3>\n",
    "</p>Afficher la <u>liste</u> des entiers impaires entre $123$ et $456$ qui sont multiple de $3$</p>"
   ]
  },
  {
   "cell_type": "code",
   "execution_count": 36,
   "id": "random-elizabeth",
   "metadata": {},
   "outputs": [
    {
     "name": "stdout",
     "output_type": "stream",
     "text": [
      "[123, 129, 135, 141, 147, 153, 159, 165, 171, 177, 183, 189, 195, 201, 207, 213, 219, 225, 231, 237, 243, 249, 255, 261, 267, 273, 279, 285, 291, 297, 303, 309, 315, 321, 327, 333, 339, 345, 351, 357, 363, 369, 375, 381, 387, 393, 399, 405, 411, 417, 423, 429, 435, 441, 447, 453]\n"
     ]
    }
   ],
   "source": [
    "L = [i for i in range(123,456) if (i%3==0)&(i%2!=0)]\n",
    "print(L)\n",
    "#Réponse : [123, 129, 135, 141, 147, 153, 159, 165, 171, 177, 183, 189, 195, 201, 207, 213, 219, 225, 231, 237, 243, 249, 255, 261, 267, 273, 279, 285, 291, 297, 303, 309, 315, 321, 327, 333, 339, 345, 351, 357, 363, 369, 375, 381, 387, 393, 399, 405, 411, 417, 423, 429, 435, 441, 447, 453]"
   ]
  },
  {
   "cell_type": "markdown",
   "id": "stuck-nation",
   "metadata": {},
   "source": [
    "<div id=\"Partie2\" style=\"border:3px solid black; padding:1%; font-size:213% ; text-align:center; color:white; background-color:black;\">\n",
    "    La bibliothèque <code>math</code>\n",
    "</div>\n",
    "<p>\n",
    "    <details>\n",
    "        <summary><strong style=\"font-size:1.414em;color:green;\">Menu de navigation</strong></summary>\n",
    "        <ul>\n",
    "            <li><a href=\"#haut2page\">Haut de page</a></li>\n",
    "            <li><a href=\"#Partie1\">Partie 1 : Retour sur les listes</a></li>\n",
    "            <li><a href=\"#Partie2\">Partie 2 : La bibliothèque <code>math</code></a></li>\n",
    "            <li><a href=\"#Partie3\">Partie 3 : Graphiques en python</a></li>\n",
    "        </ul>\n",
    "    </details>\n",
    "</p>"
   ]
  },
  {
   "cell_type": "markdown",
   "id": "funny-publicity",
   "metadata": {},
   "source": [
    "<p>Comme n'importe quelle calculatrice, nous souhaitons pouvoir utiliser des fonctions comme le cosinus, la racine carrée, le logarithme etc. Pour pouvoir utiliser ces fonctionnalités dites <em>avancées</em> il faut les <b>charger</b> dans le programme. Autrement dit : pour calculer la racine carrée de $2$, il faut écrire un programme de calcul de la racine carrée. Fort heureusement d'autres s'en sont déjà occupé ! Le fait de <b>charger</b> cette fonction revient à aller chercher le code d'autre programmeur et de simplement l'utiliser. Toutes les fonctions mathématiques dont nous pourrions avoir besoin sont rangées dans une bibliothèque : <code>math</code> (original).</p>\n",
    "\n",
    "<p>\n",
    "Voici le fonctions que nous pouvons y trouver.\n",
    "    <table>\n",
    "    <tr>\n",
    "        <th>Mathématiques</th>\n",
    "        <th>Python</th>\n",
    "    </tr>\n",
    "    <tr>\n",
    "        <td>$|x|$</td>\n",
    "        <td><code>abs(x)</code></td>\n",
    "    </tr>\n",
    "    <tr>\n",
    "        <td>$\\sqrt{x}$</td>\n",
    "        <td><code>sqrt(x)</code></td>\n",
    "    </tr>\n",
    "    <tr>\n",
    "        <td>$e^x$</td>\n",
    "        <td><code>exp(x)</code></td>\n",
    "    </tr>\n",
    "    <tr>\n",
    "        <td>$ln(x)$</td>\n",
    "        <td><code>log(x)</code></td>\n",
    "    </tr>\n",
    "    <tr>\n",
    "        <td>$log(x)$</td>\n",
    "        <td><code>log10(x)</code></td>\n",
    "    </tr>\n",
    "    <tr>\n",
    "        <td>$cos(x)$</td>\n",
    "        <td><code>cos(x)</code></td>\n",
    "    </tr>\n",
    "    <tr>\n",
    "        <td>$sin(x)$</td>\n",
    "        <td><code>sin(x)</code></td>\n",
    "    </tr>\n",
    "    <tr>\n",
    "        <td>$tan(x)$</td>\n",
    "        <td><code>tan(x)</code></td>\n",
    "    </tr>\n",
    "    <tr>\n",
    "        <td>$\\pi$</td>\n",
    "        <td><code>pi</code></td>\n",
    "    </tr>\n",
    "    <tr>\n",
    "        <td>$e(=e^1)$</td>\n",
    "            <td><code>e</code></td>\n",
    "    </tr>\n",
    "    <tr>\n",
    "        <td>$x^y$</td>\n",
    "        <td><code>pow(x, y)</code></td>\n",
    "    </tr>\n",
    "    <tr>\n",
    "        <td>$n!$</td>\n",
    "        <td><code>factorial(n)</code></td>\n",
    "    </tr>\n",
    "</table>\n",
    "\n",
    "Il existe plusieurs maniènes de charger ces fonctions :\n",
    "<ol>\n",
    "    <li>Importer toute la bibliothèque\n",
    "<blockquote>\n",
    "    <code>import math</code>\n",
    "</blockquote>\n",
    "        qui s'utilise en appelant les fonctions précédées du nom de la bibliothèque <code>x=math.cos(0)+math.exp(1)</code>.\n",
    "    </li>\n",
    "    <li>Importer des fonctions spécifiques en changeant leur nom (on parle d'allias) : pour cela il faut <em>dire en python</em> : \"importe depuis la bibliothèque XXX, les fonctions Y sous le nom y, Z sous le nom z, etc\" ce qui donne\n",
    "<blockquote>\n",
    "    <code>from math import cos as trigoDifficile, sin as trigoDifficile2, exp as UneFonctionDeTerminale</code>\n",
    "</blockquote>\n",
    "        et qui s'utilise <em>comme d'habitude</em> mais avec leur nouveau nom comme par exemple <code>x=trigoDificille(0)+UneFonctionDeTerminale(1)</code>.\n",
    "    </li>\n",
    "    <li>Importer des fonctions spécifiques sans changer leur nom\n",
    "<blockquote>\n",
    "    <code>from math import cos, sin, exp</code>\n",
    "</blockquote>\n",
    "        et qui s'utilise <em>comme d'habitude</em> comme par exemple <code>x=cos(0)+exp(1)</code>.\n",
    "    </li>\n",
    "    <li>\n",
    "        Importer toutes les fonctions d'une bibliothèque\n",
    "<blockquote>\n",
    "    <code>from math import *</code>\n",
    "</blockquote>\n",
    "        et qui s'utilise comme dans le cas précédent.\n",
    "    </li>\n",
    "</ol>\n",
    "</p>"
   ]
  },
  {
   "cell_type": "code",
   "execution_count": 37,
   "id": "square-short",
   "metadata": {},
   "outputs": [
    {
     "name": "stdout",
     "output_type": "stream",
     "text": [
      "3.718281828459045\n"
     ]
    }
   ],
   "source": [
    "import math\n",
    "x=cos(0)+math.exp(1)\n",
    "print(x)"
   ]
  },
  {
   "cell_type": "code",
   "execution_count": 38,
   "id": "czech-craps",
   "metadata": {},
   "outputs": [
    {
     "name": "stdout",
     "output_type": "stream",
     "text": [
      "3.718281828459045\n"
     ]
    }
   ],
   "source": [
    "from math import cos, sin, exp\n",
    "x=cos(0)+exp(1)\n",
    "print(x)"
   ]
  },
  {
   "cell_type": "code",
   "execution_count": 39,
   "id": "pharmaceutical-major",
   "metadata": {},
   "outputs": [
    {
     "name": "stdout",
     "output_type": "stream",
     "text": [
      "3.718281828459045\n"
     ]
    }
   ],
   "source": [
    "from math import cos as trigoDifficile, sin as trigoDifficile2, exp as UneFonctionDeTerminale\n",
    "x=trigoDifficile(0)+UneFonctionDeTerminale(1)\n",
    "print(x)"
   ]
  },
  {
   "cell_type": "code",
   "execution_count": 40,
   "id": "responsible-yield",
   "metadata": {},
   "outputs": [
    {
     "name": "stdout",
     "output_type": "stream",
     "text": [
      "3.718281828459045\n"
     ]
    }
   ],
   "source": [
    "from math import *\n",
    "x=cos(0)+exp(1)\n",
    "print(x)"
   ]
  },
  {
   "cell_type": "markdown",
   "id": "extraordinary-noise",
   "metadata": {},
   "source": [
    "<h3>Exercice</h3>\n",
    "<ol>\n",
    "    <li>Donner une valeur approchée au dixième de $\\sqrt{2}$.</li>\n",
    "    <li>Donner une valeur approchée au centième du nombre d'or $\\dfrac{1+\\sqrt{5}}{2}$.</li>\n",
    "    <li>Donner une valeur approchée au dixième de $cos(6*6*6)$.</li>\n",
    "    <li>Donner une valeur approchée au dixième de $sin(666)$.</li>\n",
    "    <li>Donner une valeur approchée de $tan\\left(\\dfrac{\\pi}{2}\\right)$.</li>\n",
    "    <li>Donner la valeur de $1983!$.</li>\n",
    "</ol>"
   ]
  },
  {
   "cell_type": "code",
   "execution_count": 41,
   "id": "48dea0da",
   "metadata": {},
   "outputs": [
    {
     "data": {
      "text/plain": [
       "1.4"
      ]
     },
     "execution_count": 41,
     "metadata": {},
     "output_type": "execute_result"
    }
   ],
   "source": [
    "round(sqrt(2),1)"
   ]
  },
  {
   "cell_type": "code",
   "execution_count": 42,
   "id": "6ff52d47",
   "metadata": {},
   "outputs": [
    {
     "data": {
      "text/plain": [
       "1.62"
      ]
     },
     "execution_count": 42,
     "metadata": {},
     "output_type": "execute_result"
    }
   ],
   "source": [
    "round((1+sqrt(5))/2,2)"
   ]
  },
  {
   "cell_type": "code",
   "execution_count": 43,
   "id": "94ba2920",
   "metadata": {},
   "outputs": [
    {
     "data": {
      "text/plain": [
       "-0.7"
      ]
     },
     "execution_count": 43,
     "metadata": {},
     "output_type": "execute_result"
    }
   ],
   "source": [
    "round(cos(6*6*6),1)"
   ]
  },
  {
   "cell_type": "code",
   "execution_count": 44,
   "id": "ca222bc6",
   "metadata": {},
   "outputs": [
    {
     "data": {
      "text/plain": [
       "-0.02"
      ]
     },
     "execution_count": 44,
     "metadata": {},
     "output_type": "execute_result"
    }
   ],
   "source": [
    "round(sin(666),2)"
   ]
  },
  {
   "cell_type": "code",
   "execution_count": 45,
   "id": "c08c32c9",
   "metadata": {},
   "outputs": [
    {
     "data": {
      "text/plain": [
       "1.633123935319537e+16"
      ]
     },
     "execution_count": 45,
     "metadata": {},
     "output_type": "execute_result"
    }
   ],
   "source": [
    "tan(pi/2)"
   ]
  },
  {
   "cell_type": "code",
   "execution_count": 46,
   "id": "e43cecad",
   "metadata": {},
   "outputs": [
    {
     "data": {
      "text/plain": [
       "2708658145231884521851046419370163779878143255113928710317984868030029200552334349754298763607465516572970305674490350631476557540732094674462332478659703490901643312049415349640949021152597056044870095541948992615042417673014111656141364739786128007948967492982780003134831911425370753136252676561116166841812666304927981434374115623224767303483270207156766548203389716145765682544150968490006388020680375977176231850051712778101386147710547804853313329416341380152821487309756298429185095110100819439378342276323424657377141750458150853732785927260898926685692117673950624122973780359123541948444224417451307680824397571201393867781141723495525685078154822494858584643841361655426624638359650293769134524463919808675388851748430903759473600790496703422295615730017961776275469412771613357123203885739905750470560836815840366090616656411852713247418728864634195889854537683320084325684289004127137470739316906570077318215878367072167251905374801259806200924204304450275921706269909004604585012749183318781312368157837430280980207391149200278252114063109005141569773449371340593939729168719297238942528236609078858046180486005916991703225130067737782838153065605178320481952972375112785789419414450907827258765267298975108276007090097684183231381766362673800977404675432818816344619888581006972869225334819441438937815599799865302574540854689596517031383873209458587722516607491331260312301281902424568934078266109107956980319660970651459459918031876404692134605539045591950988131758144900398731465245200754673362711601811934105034535979622379106963103049600707706837645730723621480959233866353510800520655366949957925602503041727743155604935554975061727968100491818287994652799086134385765968564739118444981252812035122683872446721528169450073267634215325268573101173910858142669316652298758877686840606813260198272309292134432476965928802679798983337645106728643203951318292543679455929056666123614433684942624284362956738641345717180259019408430462703121010223038792177519323935172685220001429314110255095968749184973128032544051850902885236518768326859291872154732983036178847743468478067678712109156361888369795925875433624560871940936260717013269015954199269808568178854961407479278153773681799374104475288952736500471787588050245933564116660943312874659268313030011932726546236411833251519053297012759585637917664276774145981285431162034224758833975846347810961476555934983087783571443100061161473414914949281773035067971821865761608654818452786134147629717973263339981143093499648354419589238479318774987569408127345505241991791963977067296339674369109387781483866537148568336136707798970375409629219604999016570614630949805751571147017416100176070324053434711979645316789279902299774508956725212299890752199438016657293515445654427507597779616608096060319063564173673717220545745239818243997946336588046951125111348888273508932851182567524036687467653008800752239128230289489925818903412841276237658171804283396352128272489355112177125866230277894157147374011525669505747591489062249398340784360853720343725689367928517834187814261615329553138817393851480933202678605466599450087394421612827051010029925398132843717103389984817342088286632326453345640188192503232942023384522684337870086132743152207529060212270117694430412824881964650397951791973189405784809660479352534511168875393833472103228188705575637123202873292032434774195876909573355790507113166524353406343284094436668110495516656069703543942379099116854971302686563753960442286639923846476049434326198158836952553006014784824933903950925212462469772944871213564302075494503315210672405615672050726982094847793510772662139901530835411785347842280322618932832414758074105302234300540858385242729724962487621778873869107381718809433037345035495988926510639905831895728487774486466708978554323391762025795217091992769134048116765164644813894739038749426555519758036025522810128383793544341726797930378967822322352627271703718790368328655147627371585155938505282824594754397795322148177959640342191410693913935478368962177968541252590626090058747289298897906417072628413936771078024610512527876905101976958620404587526355754565167224353944293669486434633998322050517933840553698851646921621059456618706137239335466196130185851242756630577123187829922815779449168496876498319476088285084103237370212988507738195493524976856307714862325527596137340260690840375200531904464984431641996493394081777919911206049124420812763695986593937313502617214672551174414895221561154718496598041043697183847803231784778464081052801724373965308775109797747409225868722525833690477213871264192582858421595967394137501532645431567209128269636126321860350628998227919726176689037468822955876903562288945141333544086541345956968211061450002836474230198614440774370503386555022367110064505359176055275294525652403996108727650114950079467772408337041106067241778009611212470649752630805972351682125269650820698500366333383778648762834539429635998543156533961218682392147021176339923810231465941996913494184983138542340194687529584807336620006054809671421760595323754326322322327087614719900941186271559791907380061595655398070387605189062116284878198055072191567810144311085659125986892586762262277576811903828442315058550343298609493022164910080000000000000000000000000000000000000000000000000000000000000000000000000000000000000000000000000000000000000000000000000000000000000000000000000000000000000000000000000000000000000000000000000000000000000000000000000000000000000000000000000000000000000000000000000000000000000000000000000000000000000000000000000000000000000000000000000000000000000000000000000000000000000000000000000000000000000000000000000000000000000000000000000000000000000000000000000000000000000000000000000000000000000"
      ]
     },
     "execution_count": 46,
     "metadata": {},
     "output_type": "execute_result"
    }
   ],
   "source": [
    "factorial(1983)"
   ]
  },
  {
   "cell_type": "markdown",
   "id": "molecular-nursing",
   "metadata": {},
   "source": [
    "<h1>Application</h1>\n",
    "<p>\n",
    "Si l'on souhaite afficher la liste des carrés des nombres réels entre $0$ et $1$ de $0.1$ en $0.1$ voici comment on peut procéder : \n",
    "<ul>\n",
    "    <li>Il y aura $11$ valeurs à mettre au carré : $0$, $0.1$, $0.2$, $0.3$, $0.4$, $0.5$, $0.6$, $0.7$, $0.8$, $0.9$ et $1$. On part donc de la liste des entiers <code>[x for x in range(11)]</code>.</li>\n",
    "    <li>Pour chacun des entiers on divise par $10$ : <code>[x/10 for x in range(11)]</code>.</li>\n",
    "    <li>On met au carré : <code>[(x/10)**2 for x in range(11)]</code>.</li>\n",
    "</ul>\n",
    "</p>"
   ]
  },
  {
   "cell_type": "code",
   "execution_count": 52,
   "id": "gothic-croatia",
   "metadata": {},
   "outputs": [
    {
     "name": "stdout",
     "output_type": "stream",
     "text": [
      "[0.0, 0.010000000000000002, 0.04000000000000001, 0.09, 0.16000000000000003, 0.25, 0.36, 0.48999999999999994, 0.6400000000000001, 0.81, 1.0]\n"
     ]
    }
   ],
   "source": [
    "print([(x/10)**2 for x in range(11)])"
   ]
  },
  {
   "cell_type": "markdown",
   "id": "filled-microwave",
   "metadata": {},
   "source": [
    "<p>\n",
    "    Autre exemple : on souhaite calculer le logarithme népérien (<code>log</code>) de $x^2+x-6$ pour $101$ valeurs équi-répartie dans l'intervalle $[-3 ; 3]$.\n",
    "    <ul>\n",
    "        <li>Puisqu'on aura $100$ valeurs on part de la liste <code>range(101)</code>.</li>\n",
    "        <li>Soit <code>x</code> une valeur de cette liste, si on réalise l'opération <code>x/100</code> alors le nombre sera entre $0$ et $1$. Puisqu'on souhaite être entre $-3$ et $3$, il faut <em>translater</em> et <em>dilater cette intervalle</em>. Vite des maths : \n",
    "        <div style=\"background-color:rgba(255, 0, 0, 0.19); border : 3px solid black ; border-radius : 19px; padding : 1% 3%;\">Soient $a < b$ des nombres réels \n",
    "                $$a+(b-a)[0 ; 1]=[a ; b]$$\n",
    "        </div>\n",
    "        Ainsi on réalise donc l'opération <code>-3+(3-(-3))*x/100</code> soit plus simplement <code>-3+6*x/100</code>.\n",
    "        </li>\n",
    "        <li>\n",
    "            Il y a un problème : la fonction $ln(X)$ n'est définie que lorsque $X>0$. Il faut donc rajouter la condition $x^2-x+6>0$.\n",
    "        </li>\n",
    "    </ul>\n",
    "    Au finale pour répondre à la question, on fait : \n",
    "\n",
    "<blockquote>\n",
    "    <code>A=[-3+6*x/100 for x in range(101)]</code>\n",
    "</blockquote>\n",
    "<blockquote>\n",
    "    <code>B=[x**2+x-6 for x in A if(x**2+x-6>0)]</code>\n",
    "</blockquote>\n",
    "<blockquote>\n",
    "    <code>C=[log(x) for x in B]</code>\n",
    "</blockquote>    \n",
    "</p>"
   ]
  },
  {
   "cell_type": "code",
   "execution_count": 48,
   "id": "5ad7b969",
   "metadata": {},
   "outputs": [
    {
     "name": "stdout",
     "output_type": "stream",
     "text": [
      "[-1.6014697427849236, -0.6733445532637695, -0.19164488425483808, 0.13836966926477076, 0.3909604219052837, 0.5964159916001729, 0.7701082216960745, 0.9209200002578172, 1.0544513928823387, 1.1744616009515474, 1.2835969628815471, 1.3837912309017726, 1.476500629006039, 1.5628493230195084, 1.6437233904006503, 1.7198337296564667, 1.791759469228055]\n"
     ]
    }
   ],
   "source": [
    "A=[-3+6*x/100 for x in range(101)]\n",
    "B=[x**2+x-6 for x in A if(x**2+x-6>0)]\n",
    "C=[log(x) for x in B]\n",
    "print(C)"
   ]
  },
  {
   "cell_type": "markdown",
   "id": "confirmed-arthritis",
   "metadata": {},
   "source": [
    "<p>On peut bien sur simplifier cette rédaction</p>"
   ]
  },
  {
   "cell_type": "code",
   "execution_count": 49,
   "id": "ranking-vaccine",
   "metadata": {},
   "outputs": [
    {
     "name": "stdout",
     "output_type": "stream",
     "text": [
      "[-1.6014697427849236, -0.6733445532637695, -0.19164488425483808, 0.13836966926477076, 0.3909604219052837, 0.5964159916001729, 0.7701082216960745, 0.9209200002578172, 1.0544513928823387, 1.1744616009515474, 1.2835969628815471, 1.3837912309017726, 1.476500629006039, 1.5628493230195084, 1.6437233904006503, 1.7198337296564667, 1.791759469228055]\n"
     ]
    }
   ],
   "source": [
    "D=[log((-3+6*x/100)**2+(-3+6*x/100)-6) for x in range(101) if (((-3+6*x/100)**2+(-3+6*x/100)-6)>0)]\n",
    "print(D)"
   ]
  },
  {
   "cell_type": "markdown",
   "id": "simple-soviet",
   "metadata": {},
   "source": [
    "<h3>Exercice</h3>\n",
    "<ol>\n",
    "    <li>Afficher la liste de $exp(-\\sqrt{x^2-1})$ pour $100$ valeurs équi-réparties sur $[-1 ; 2]$</li>\n",
    "    <li>Afficher la liste de $exp(-\\sqrt{x^2-1})$ pour $1000$ valeurs équi-réparties sur $[-1 ; 2]$</li>\n",
    "    <li>Afficher la liste de $exp(-\\sqrt{x^2-1})$ pour $1000$ valeurs équi-réparties sur $[-3 ; 2]$</li>\n",
    "    <li>Afficher la liste de $exp(-\\sqrt{x^2-1})$ pour $n$ valeurs équi-réparties sur $[a ; b]$ pour des valeurs $n$, $a$, $b$ paramètrables</li>\n",
    "</ol>"
   ]
  },
  {
   "cell_type": "code",
   "execution_count": 50,
   "id": "d7138ba3",
   "metadata": {},
   "outputs": [],
   "source": [
    "def equi(n,a,b):\n",
    "    def f(x):\n",
    "        return x\n",
    "    ah=a+(b-a)*f/n\n",
    "    A=[ah for x in range(n+1)]\n",
    "    B=[x**2-1 for x in A if(x**2-1>0)]\n",
    "    C=[-exp(x) for x in B]\n",
    "    print(C)"
   ]
  },
  {
   "cell_type": "code",
   "execution_count": 51,
   "id": "197ebf0a",
   "metadata": {},
   "outputs": [
    {
     "ename": "TypeError",
     "evalue": "unsupported operand type(s) for *: 'int' and 'function'",
     "output_type": "error",
     "traceback": [
      "\u001b[1;31m---------------------------------------------------------------------------\u001b[0m",
      "\u001b[1;31mTypeError\u001b[0m                                 Traceback (most recent call last)",
      "\u001b[1;32m~\\AppData\\Local\\Temp\\ipykernel_3812\\1014945762.py\u001b[0m in \u001b[0;36m<module>\u001b[1;34m\u001b[0m\n\u001b[1;32m----> 1\u001b[1;33m \u001b[0mequi\u001b[0m\u001b[1;33m(\u001b[0m\u001b[1;36m100\u001b[0m\u001b[1;33m,\u001b[0m\u001b[1;33m-\u001b[0m\u001b[1;36m1\u001b[0m\u001b[1;33m,\u001b[0m\u001b[1;36m2\u001b[0m\u001b[1;33m)\u001b[0m\u001b[1;33m\u001b[0m\u001b[1;33m\u001b[0m\u001b[0m\n\u001b[0m",
      "\u001b[1;32m~\\AppData\\Local\\Temp\\ipykernel_3812\\3428477858.py\u001b[0m in \u001b[0;36mequi\u001b[1;34m(n, a, b)\u001b[0m\n\u001b[0;32m      2\u001b[0m     \u001b[1;32mdef\u001b[0m \u001b[0mf\u001b[0m\u001b[1;33m(\u001b[0m\u001b[0mx\u001b[0m\u001b[1;33m)\u001b[0m\u001b[1;33m:\u001b[0m\u001b[1;33m\u001b[0m\u001b[1;33m\u001b[0m\u001b[0m\n\u001b[0;32m      3\u001b[0m         \u001b[1;32mreturn\u001b[0m \u001b[0mx\u001b[0m\u001b[1;33m\u001b[0m\u001b[1;33m\u001b[0m\u001b[0m\n\u001b[1;32m----> 4\u001b[1;33m     \u001b[0mah\u001b[0m\u001b[1;33m=\u001b[0m\u001b[0ma\u001b[0m\u001b[1;33m+\u001b[0m\u001b[1;33m(\u001b[0m\u001b[0mb\u001b[0m\u001b[1;33m-\u001b[0m\u001b[0ma\u001b[0m\u001b[1;33m)\u001b[0m\u001b[1;33m*\u001b[0m\u001b[0mf\u001b[0m\u001b[1;33m/\u001b[0m\u001b[0mn\u001b[0m\u001b[1;33m\u001b[0m\u001b[1;33m\u001b[0m\u001b[0m\n\u001b[0m\u001b[0;32m      5\u001b[0m     \u001b[0mA\u001b[0m\u001b[1;33m=\u001b[0m\u001b[1;33m[\u001b[0m\u001b[0mah\u001b[0m \u001b[1;32mfor\u001b[0m \u001b[0mx\u001b[0m \u001b[1;32min\u001b[0m \u001b[0mrange\u001b[0m\u001b[1;33m(\u001b[0m\u001b[0mn\u001b[0m\u001b[1;33m+\u001b[0m\u001b[1;36m1\u001b[0m\u001b[1;33m)\u001b[0m\u001b[1;33m]\u001b[0m\u001b[1;33m\u001b[0m\u001b[1;33m\u001b[0m\u001b[0m\n\u001b[0;32m      6\u001b[0m     \u001b[0mB\u001b[0m\u001b[1;33m=\u001b[0m\u001b[1;33m[\u001b[0m\u001b[0mx\u001b[0m\u001b[1;33m**\u001b[0m\u001b[1;36m2\u001b[0m\u001b[1;33m-\u001b[0m\u001b[1;36m1\u001b[0m \u001b[1;32mfor\u001b[0m \u001b[0mx\u001b[0m \u001b[1;32min\u001b[0m \u001b[0mA\u001b[0m \u001b[1;32mif\u001b[0m\u001b[1;33m(\u001b[0m\u001b[0mx\u001b[0m\u001b[1;33m**\u001b[0m\u001b[1;36m2\u001b[0m\u001b[1;33m-\u001b[0m\u001b[1;36m1\u001b[0m\u001b[1;33m>\u001b[0m\u001b[1;36m0\u001b[0m\u001b[1;33m)\u001b[0m\u001b[1;33m]\u001b[0m\u001b[1;33m\u001b[0m\u001b[1;33m\u001b[0m\u001b[0m\n",
      "\u001b[1;31mTypeError\u001b[0m: unsupported operand type(s) for *: 'int' and 'function'"
     ]
    }
   ],
   "source": [
    "equi(100,-1,2)"
   ]
  },
  {
   "cell_type": "code",
   "execution_count": null,
   "id": "32f03f82",
   "metadata": {},
   "outputs": [],
   "source": [
    "A=[-1+3*x/100 for x in range(101)]\n",
    "B=[x**2-1 for x in A if(x**2-1>0)]\n",
    "C=[-exp(x) for x in B]\n",
    "print(C)"
   ]
  },
  {
   "cell_type": "code",
   "execution_count": null,
   "id": "f1e872b2",
   "metadata": {},
   "outputs": [],
   "source": [
    "A=[-1+3*x/1000 for x in range(1001)]\n",
    "B=[x**2-1 for x in A if(x**2-1>0)]\n",
    "C=[-exp(x) for x in B]\n",
    "print(C)"
   ]
  },
  {
   "cell_type": "code",
   "execution_count": null,
   "id": "4dbb8e2d",
   "metadata": {},
   "outputs": [],
   "source": [
    "A=[-3+5*x/1000 for x in range(1001)]\n",
    "B=[x**2-1 for x in A if(x**2-1>0)]\n",
    "C=[-exp(x) for x in B]\n",
    "print(C)"
   ]
  },
  {
   "cell_type": "markdown",
   "id": "surgical-membership",
   "metadata": {},
   "source": [
    "<div id=\"Partie3\" style=\"border:3px solid black; padding:1%; font-size:213% ; text-align:center; color:white; background-color:black;\">\n",
    "    Graphiques en python\n",
    "</div>\n",
    "<p>\n",
    "    <details>\n",
    "        <summary><strong style=\"font-size:1.414em;color:green;\">Menu de navigation</strong></summary>\n",
    "        <ul>\n",
    "            <li><a href=\"#haut2page\">Haut de page</a></li>\n",
    "            <li><a href=\"#Partie1\">Partie 1 : Retour sur les listes</a></li>\n",
    "            <li><a href=\"#Partie2\">Partie 2 : La bibliothèque <code>math</code></a></li>\n",
    "            <li><a href=\"#Partie3\">Partie 3 : Graphiques en python</a></li>\n",
    "        </ul>\n",
    "    </details>\n",
    "</p>"
   ]
  },
  {
   "cell_type": "markdown",
   "id": "governmental-continent",
   "metadata": {},
   "source": [
    "<p>Comme pour les fonctions, il faut définir la fenêtre de graphique. Par chance, d'autres s'en sont occupés. Chargeons cette fonctionnalité : exécuter la case suivante.</p>"
   ]
  },
  {
   "cell_type": "code",
   "execution_count": null,
   "id": "foster-nirvana",
   "metadata": {},
   "outputs": [],
   "source": [
    "from matplotlib.pyplot import *"
   ]
  },
  {
   "cell_type": "markdown",
   "id": "adverse-civilization",
   "metadata": {},
   "source": [
    "<p>Pour faire un graphique rien de plus simple ! On utilise la fonction <code>plot</code> qui prend au moins deux paramètres : \n",
    "<ol>\n",
    "     <li>Le premier est la liste des points d'abscisses</li>\n",
    "     <li>La seconde est la liste des points d'ordonnées</li>\n",
    "</ol>\n",
    "Voici un exemple : \n",
    "</p>"
   ]
  },
  {
   "cell_type": "code",
   "execution_count": null,
   "id": "afe742ec",
   "metadata": {},
   "outputs": [],
   "source": [
    "X=[k/10 for k in range(-3, 4)]\n",
    "Y=[x**2 for x in X]\n",
    "plot(X, Y)"
   ]
  },
  {
   "cell_type": "markdown",
   "id": "attempted-reflection",
   "metadata": {},
   "source": [
    "<p>La fonction <code>plot</code> crée un objet <em>fenêtre graphique</em> il faut demander à afficher cette fenêtre (NB: jupyter est très gentil, lorsqu'on ne lui indique pas d'afficher le graphique, il le fait tout seul. Pour s'en convaincre, remarquer le <code style=\"color:brown;\">Out</code> dans la marge de gauche). <br>\n",
    "Pour afficher la fenêtre graphique, on utilise la fonction <code>show</code>\n",
    "</p>"
   ]
  },
  {
   "cell_type": "code",
   "execution_count": null,
   "id": "injured-maximum",
   "metadata": {},
   "outputs": [],
   "source": [
    "X=[k/10 for k in range(-3, 4)]\n",
    "Y=[x**2 for x in X]\n",
    "plot(X, Y)\n",
    "show()"
   ]
  },
  {
   "cell_type": "markdown",
   "id": "caroline-luxembourg",
   "metadata": {},
   "source": [
    "<h3>Quelques fonctionnalités supplémentaires</h3>\n",
    "<ul>\n",
    "    <li><code>grid(<span style=\"color:green\">True</span>)</code> permet d'afficher une grille dans le graphique. Exemple : \n",
    "    <blockquote><code>plot(X, Y)<br>grid(<span style=\"color:green\">True</span>)</code></blockquote>\n",
    "    </li>\n",
    "    <li>On peut modifier la couleur de la courbre en ajoutant un paramètre à la fonction <code>plot</code>, comme dans l'exemple suivant : \n",
    "        <blockquote><code>plot(X, Y, 'k')</code></blockquote>\n",
    "    Les différentes couleurs prédéfinies sont : \n",
    "    <table>\n",
    "        <tr>\n",
    "            <th>Couleur</th>\n",
    "            <th>Code</th>\n",
    "        </tr>\n",
    "        <tr>\n",
    "            <td>Bleu</td>\n",
    "            <td><code>'b'</code></td>\n",
    "        </tr>\n",
    "        <tr>\n",
    "            <td>Vert</td>\n",
    "            <td><code>'g'</code></td>\n",
    "        </tr>\n",
    "        <tr>\n",
    "            <td>Rouge</td>\n",
    "            <td><code>'r'</code></td>\n",
    "        </tr>\n",
    "        <tr>\n",
    "            <td>Cyan</td>\n",
    "            <td><code>'c'</code></td>\n",
    "        </tr>\n",
    "        <tr>\n",
    "            <td>Magenta</td>\n",
    "            <td><code>'m'</code></td>\n",
    "        </tr>\n",
    "        <tr>\n",
    "            <td>Jaune</td>\n",
    "            <td><code>'y'</code></td>\n",
    "        </tr>\n",
    "        <tr>\n",
    "            <td>Noir</td>\n",
    "            <td><code>'k'</code></td>\n",
    "        </tr>\n",
    "        <tr>\n",
    "            <td>Blanc</td>\n",
    "            <td><code>'w'</code></td>\n",
    "        </tr>\n",
    "    </table>\n",
    "    </li>\n",
    "    <li>On peut préciser le style de la ligne parmi les choix suivant : \n",
    "    <table>\n",
    "        <tr>\n",
    "            <th>Style</th>\n",
    "            <th>Code</th>\n",
    "        </tr>\n",
    "        <tr>\n",
    "            <td>Ligne continue (par défaut)</td>\n",
    "            <td><code>'-'</code></td>\n",
    "        </tr>\n",
    "        <tr>\n",
    "            <td>Tiret</td>\n",
    "            <td><code>'--'</code></td>\n",
    "        </tr>\n",
    "        <tr>\n",
    "            <td>Pointillé</td>\n",
    "            <td><code>':'</code></td>\n",
    "        </tr>\n",
    "    </table>\n",
    "        <blockquote><code>plot(X, Y, ':')<br></code></blockquote>\n",
    "        <b>ATTENTION</b> cependant ! Si vous voulez modifier la couleur et le style du trait, il faut le faire en même temps. De sorte que <code>plot(X, Y, ':', 'r')</code> est une erreur. On corrigera par\n",
    "        <blockquote><code>plot(X, Y, 'r:')<br></code></blockquote>\n",
    "        </li>\n",
    "    <li>La fonction <code>plot(X, Y)</code> place par défaut des points (ceux de <code>X</code> et <code>Y</code>) et les relie par des traits (où d'autre style comme nous l'avons vu précédement). On peut changer le style des marques parmi ceux de la liste suivante : \n",
    "    <table>\n",
    "        <tr>\n",
    "            <th>Marqueur</th>\n",
    "            <th>Code</th>\n",
    "        </tr>\n",
    "        <tr>\n",
    "            <td>Point (par défaut)</td>\n",
    "            <td><code>'.'</code></td>\n",
    "        </tr>\n",
    "        <tr>\n",
    "            <td>Cercle</td>\n",
    "            <td><code>'o'</code></td>\n",
    "        </tr>\n",
    "        <tr>\n",
    "            <td>Triangle vers le bas</td>\n",
    "            <td><code>'v'</code></td>\n",
    "        </tr>\n",
    "        <tr>\n",
    "            <td>Triangle vers le haut</td>\n",
    "            <td><code>'^'</code></td>\n",
    "        </tr>\n",
    "        <tr>\n",
    "            <td>Triangle vers la gauche</td>\n",
    "            <td><code>'<'</code></td>\n",
    "        </tr>\n",
    "        <tr>\n",
    "            <td>Triangle vers la droite</td>\n",
    "            <td><code>'>'</code></td>\n",
    "        </tr>\n",
    "        <tr>\n",
    "            <td>Carré</td>\n",
    "            <td><code>'s'</code></td>\n",
    "        </tr>\n",
    "        <tr>\n",
    "            <td>Pentagone</td>\n",
    "            <td><code>'p'</code></td>\n",
    "        </tr>\n",
    "        <tr>\n",
    "            <td>Etoile</td>\n",
    "            <td><code>'*'</code></td>\n",
    "        </tr>\n",
    "        <tr>\n",
    "            <td>Plus</td>\n",
    "            <td><code>'+'</code></td>\n",
    "        </tr>\n",
    "        <tr>\n",
    "            <td>Croix</td>\n",
    "            <td><code>'x'</code></td>\n",
    "        </tr>\n",
    "        <tr>\n",
    "            <td>Losange</td>\n",
    "            <td><code>'d'</code></td>\n",
    "        </tr>\n",
    "    </table>\n",
    "        Il en existe quelque autres. Comme pour les styles de traits, il faut déclarer les marqueurs au même moment.\n",
    "        <blockquote><code>plot(X, Y, 'rd:')<br></code></blockquote>\n",
    "    </li>\n",
    "        <li>On peut préciser l'épaisseur de la ligne en ajoutant à la fonction <code>plot</code> la paramètre <code>linewidth</code>.\n",
    "    <blockquote><code>plot(X, Y, linewidth=5)<br></code></blockquote>\n",
    "    </li>\n",
    "    <li>On peut préciser les bords de la fenêtre de graphique par l'appel des fonction <code>xlim</code> et <code>ylim</code> qui prennent chacun deux paramètres : la plus grande et la plus petite valeur sur les axes respectifs.\n",
    "    <blockquote><code>plot(X, Y)<br>xlim(-1,1)<br>ylim(-10, 10)</code></blockquote>\n",
    "    </li>\n",
    "    <li>On peut donner un titre au graphique par l'appel de la fonction <code>title</code>\n",
    "    <blockquote><code>plot(X, Y)<br>title(\"Graphique de ma fonction\")</code></blockquote>\n",
    "    </li>\n",
    "    <li>On peut déssiner plusieurs fonctions sur un même graphique (par l'appel de plusieurs <code>plot</code> différent). Dans ce cas, pour les disctinguer (en plus des couleurs), on peut légender les différentes courbes. Il y a pour cela deux choses à faire : \n",
    "        <ol>\n",
    "        <li>Donner un titre à la courbe, en ajoutant un <code>label</code> dans <code>plot</code>.</li>\n",
    "        <li>Demander l'affichage de ce <code>label</code>. Pour cela on appel la fonction <code>legend</code> sans paramètre.</li>\n",
    "        </ol>\n",
    "    <blockquote><code>plot(X, Y, label=\"Fonction 1\")<br>plot(X, Z, label=\"Fonction 2\")<br>legend()</code></blockquote>\n",
    "    </li>\n",
    "    <li>On peut aussi labéliser les axes : <code>xlabel</code> pour les abscisses et <code>ylabel</code> pour les ordonnées.\n",
    "    <blockquote><code>plot(X, Y)<br>xlabel(\"Abscisses\")<br>ylabel(\"Ordonnées\")</code></blockquote>\n",
    "    </li>\n",
    "</ul>\n",
    "\n",
    "<p>Voici un exemple qui résume tout.</p>"
   ]
  },
  {
   "cell_type": "code",
   "execution_count": null,
   "id": "radical-composition",
   "metadata": {},
   "outputs": [],
   "source": [
    "#Coordonnes des points\n",
    "X=[x/10 for x in range(10+1)]\n",
    "Y=[sqrt(x) for x in X]\n",
    "Z=[x**2 for x in X]\n",
    "\n",
    "#Dessin\n",
    "plot(X, Y, 'cx-', linewidth=1.5, label=\"$x\\mapsto \\sqrt{x}$\")\n",
    "plot(X, Z, 'm^--', label=\"$x\\mapsto x^2$\")\n",
    "plot(X, X, 'r*:', label=\"$x\\mapsto x$\")\n",
    "\n",
    "#Dimension de la fenêtre\n",
    "xlim(0, 1)\n",
    "ylim(0, 1)\n",
    "\n",
    "#Titre et légende\n",
    "title(\"Comparaison entre $x^2$ et $\\sqrt{x}$ sur $[0; 1]$\")\n",
    "xlabel(\"Abscisses\")\n",
    "ylabel(\"Ordonnées\")\n",
    "legend()\n",
    "\n",
    "#Quadrillage\n",
    "grid(True)\n",
    "\n",
    "#Affichage\n",
    "show()"
   ]
  },
  {
   "cell_type": "markdown",
   "id": "international-paris",
   "metadata": {},
   "source": [
    "<p>Les possibilités sont très nombreuses. Pour explorer les possibilités de graphique en python à l'aide de <code>matplotlib</code>, on pourra consulter la documentation ici : <a href=\"https://matplotlib.org/\">https://matplotlib.org/</a>.</p>\n",
    "\n",
    "</p>Voici quelques exemples.</p>"
   ]
  },
  {
   "cell_type": "markdown",
   "id": "working-ethiopia",
   "metadata": {},
   "source": [
    "<h3>Le nuage de point</h3>\n",
    "    \n",
    "<p>Pour réaliser un nuage de point on utilise la fonction <code>scatter</code>.</p>"
   ]
  },
  {
   "cell_type": "code",
   "execution_count": null,
   "id": "tough-joseph",
   "metadata": {},
   "outputs": [],
   "source": [
    "X=[1,2,3]\n",
    "Y=[-1,0,1]\n",
    "scatter(X, Y)\n",
    "show()"
   ]
  },
  {
   "cell_type": "markdown",
   "id": "demographic-color",
   "metadata": {},
   "source": [
    "<p>On pourra en apprendre plus sur cette fonction <a href=\"https://www.w3schools.com/python/matplotlib_scatter.asp\" target=\"_blank\">ici</a><p>"
   ]
  },
  {
   "cell_type": "markdown",
   "id": "dirty-agreement",
   "metadata": {},
   "source": [
    "<h3>Les graphiques polaires</h3>\n",
    "<p>La fonction <code>plot</code> utilise des données cartésinnes, c'est à dire des $x$ et $y$ classiques. il existe une autre manière de représenter les points du plan : les coodonnées polaires. Dans ce cas on précise la distance à l'origine et l'angle (en radian) formé avec l'axe des demi-abscisses positif. La fonction <code>polar</code> réalise alors un grpahique circulaire.</p>"
   ]
  },
  {
   "cell_type": "code",
   "execution_count": null,
   "id": "tropical-yugoslavia",
   "metadata": {},
   "outputs": [],
   "source": [
    "T=[pi/6, pi/4, pi/3]\n",
    "R=[1, 2, 3]\n",
    "polar(T, R)\n",
    "show()"
   ]
  },
  {
   "cell_type": "markdown",
   "id": "iraqi-square",
   "metadata": {},
   "source": [
    "<h3>Le diagramme en batôn</h3>\n",
    "<p>La fonction <code>bar</code> permet de réaliser des diagrammes en batôn.</p>"
   ]
  },
  {
   "cell_type": "code",
   "execution_count": null,
   "id": "hydraulic-cosmetic",
   "metadata": {},
   "outputs": [],
   "source": [
    "X=[1, 2, 10]\n",
    "H=[50, 20, 75]\n",
    "bar(X, H)\n",
    "show()"
   ]
  },
  {
   "cell_type": "code",
   "execution_count": null,
   "id": "hawaiian-matrix",
   "metadata": {},
   "outputs": [],
   "source": [
    "X=[1, 2, 10]\n",
    "H=[50, 20, 75]\n",
    "bar(X, H, width=0.1)\n",
    "show()"
   ]
  },
  {
   "cell_type": "code",
   "execution_count": null,
   "id": "ranking-experiment",
   "metadata": {},
   "outputs": [],
   "source": [
    "X=[1, 2, 10]\n",
    "H=[50, 20, 75]\n",
    "bar(X, H, width=0.1)\n",
    "xticks(X, ['Jeune', 'Adulte', 'Vieux'], rotation=-45)\n",
    "for i in range(len(X)) : text(X[i], H[i], str(H[i])+'%')\n",
    "title(\"Répartition\")\n",
    "show()"
   ]
  },
  {
   "cell_type": "markdown",
   "id": "regional-italy",
   "metadata": {},
   "source": [
    "<p>On pourra en apprendre plus sur la fonction <code>bar</code> par <a href=\"http://www.python-simple.com/python-matplotlib/barplot.php\" target=\"_blank\">ici</a></p>"
   ]
  },
  {
   "cell_type": "markdown",
   "id": "designed-burton",
   "metadata": {},
   "source": [
    "<h3>Dimensionnement de la figure</h3>\n",
    "<p>Pour dimensionner une figure, il suffit d'utiliser <code>figure(figsize=(hauteur, largeur))</code>.</p>"
   ]
  },
  {
   "cell_type": "code",
   "execution_count": null,
   "id": "exact-tuning",
   "metadata": {},
   "outputs": [],
   "source": [
    "figure(figsize=(2, 5))\n",
    "\n",
    "X=[1, 2, 10]\n",
    "H=[50, 20, 75]\n",
    "bar(X, H, width=0.1)\n",
    "xticks(X, ['Jeune', 'Adulte', 'Vieux'], rotation=-45)\n",
    "for i in range(len(X)) : text(X[i], H[i], str(H[i])+'%')\n",
    "title(\"Répartition\")\n",
    "show()"
   ]
  },
  {
   "cell_type": "code",
   "execution_count": null,
   "id": "secret-concord",
   "metadata": {},
   "outputs": [],
   "source": [
    "figure(figsize=(5, 2))\n",
    "\n",
    "X=[1, 2, 10]\n",
    "H=[50, 20, 75]\n",
    "bar(X, H, width=0.1)\n",
    "xticks(X, ['Jeune', 'Adulte', 'Vieux'], rotation=-45)\n",
    "for i in range(len(X)) : text(X[i], H[i], str(H[i])+'%')\n",
    "title(\"Répartition\")\n",
    "show()"
   ]
  },
  {
   "cell_type": "markdown",
   "id": "angry-female",
   "metadata": {},
   "source": [
    "<h3>Le multiplot</h3>\n",
    "<p>Il est possible de réaliser plusieurs graphique à l'aide de la fonction <code>subplot</code> qui prend en paramètre le nombre de ligne, le nombre de colonne et le numéro du graphique considéré.</p>"
   ]
  },
  {
   "cell_type": "code",
   "execution_count": null,
   "id": "danish-charleston",
   "metadata": {},
   "outputs": [],
   "source": [
    "figure(figsize=(10, 2))\n",
    "\n",
    "subplot(121)\n",
    "X=[1, 2, 10]\n",
    "H=[50, 20, 75]\n",
    "bar(X, H, width=0.1)\n",
    "xticks(X, ['Jeune', 'Adulte', 'Vieux'], rotation=-45)\n",
    "for i in range(len(X)) : text(X[i], H[i], str(H[i])+'%')\n",
    "title(\"Répartition\")\n",
    "\n",
    "subplot(122)\n",
    "X=[1,2,3]\n",
    "Y=[-1,0,1]\n",
    "scatter(X, Y)\n",
    "\n",
    "show()"
   ]
  }
 ],
 "metadata": {
  "hide_input": false,
  "kernelspec": {
   "display_name": "Python 3 (ipykernel)",
   "language": "python",
   "name": "python3"
  },
  "language_info": {
   "codemirror_mode": {
    "name": "ipython",
    "version": 3
   },
   "file_extension": ".py",
   "mimetype": "text/x-python",
   "name": "python",
   "nbconvert_exporter": "python",
   "pygments_lexer": "ipython3",
   "version": "3.10.4"
  }
 },
 "nbformat": 4,
 "nbformat_minor": 5
}
