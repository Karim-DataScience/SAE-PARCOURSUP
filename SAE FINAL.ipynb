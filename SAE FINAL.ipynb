{
 "cells": [
  {
   "cell_type": "markdown",
   "id": "7484f112",
   "metadata": {},
   "source": [
    "<h1>SAE Classement ParcourSup Département Informatique</h1>"
   ]
  },
  {
   "cell_type": "markdown",
   "id": "5b784f97",
   "metadata": {},
   "source": [
    "<p> Dans un premier temps, on importe, tous les modules nécessaires à ce projet. </p>"
   ]
  },
  {
   "cell_type": "code",
   "execution_count": 1,
   "id": "afeca755",
   "metadata": {},
   "outputs": [],
   "source": [
    "from math import * #Pour toutes les fonctions Mathématiques\n",
    "#from xlsxwriter import * #Pour l'import/export de l'excel\n",
    "import matplotlib.pyplot as plt #Mise en place graphique de données\n",
    "import pandas as pd #Gestion d'une Dataframe"
   ]
  },
  {
   "cell_type": "markdown",
   "id": "05619c41",
   "metadata": {},
   "source": [
    "<p> On récupères la DataFrame de l'Excel </p>"
   ]
  },
  {
   "cell_type": "code",
   "execution_count": 3,
   "id": "0dd3668c",
   "metadata": {},
   "outputs": [
    {
     "name": "stdout",
     "output_type": "stream",
     "text": [
      "16.740962982177734\n"
     ]
    }
   ],
   "source": [
    "import time \n",
    "start = time.time()\n",
    "df = pd.read_excel(\"PS_INFO.xlsx\",engine='openpyxl')\n",
    "end = time.time()\n",
    "elapsed = end - start\n",
    "\n",
    "print(elapsed)"
   ]
  },
  {
   "cell_type": "code",
   "execution_count": 4,
   "id": "75e21f8f",
   "metadata": {},
   "outputs": [
    {
     "name": "stdout",
     "output_type": "stream",
     "text": [
      "Nombre de vœux  total : 4605\n",
      "Nombre de vœux non confirmés : 243\n",
      "Nombre de vœux confirmés : 4362\n",
      "Dont 2972 bacs généraux et 1390 bacs technologique\n"
     ]
    }
   ],
   "source": [
    "Taille = len(df)\n",
    "Voeux_NonConf=0\n",
    "Gen=0\n",
    "Techno=0\n",
    "for i in range(Taille) :\n",
    "    groupe = df['Groupe'][i]\n",
    "    if(df['Candidature validée (O/N)'][i]=='Non') : Voeux_NonConf+=1 \n",
    "    else : \n",
    "        if(groupe==7415) : \n",
    "            Gen+=1\n",
    "        else : Techno+=1\n",
    "print(\"Nombre de vœux  total :\", Taille)\n",
    "print(\"Nombre de vœux non confirmés :\", Voeux_NonConf)\n",
    "print(\"Nombre de vœux confirmés :\", Taille-Voeux_NonConf)\n",
    "print('Dont', Gen, \"bacs généraux et\", Techno, \"bacs technologique\")\n",
    "\n"
   ]
  },
  {
   "cell_type": "markdown",
   "id": "cb152ce1",
   "metadata": {},
   "source": [
    "<div class=\"text_cell_render border-box-sizing rendered_html\">\n",
    "<p></p><div id=\"nb_candidature\"></div><p></p>\n",
    "<h3>Données</h3><ol>\n",
    "    <li><a href=\"#nb_candidature\">Données</a></li>\n",
    "    <li><a href=\"#matrice\">Matrices</a></li>\n",
    "\n",
    "</ol>\n",
    "</div>"
   ]
  },
  {
   "cell_type": "code",
   "execution_count": 30,
   "id": "51c8e5de",
   "metadata": {},
   "outputs": [
    {
     "name": "stdout",
     "output_type": "stream",
     "text": [
      "Matrice pour les bac généraux :\n",
      "         MATH  MATH_EXP  MATH_COMP  SCIENCES  NSI  SES  ANGLAIS  FRANCAIS\n",
      "P1          1         1          0         1    1    1        1         1\n",
      "P2          2         2          0         2    1    1        1         1\n",
      "P3          3         3          0         3    1    1        1         1\n",
      "T1          2         2          1         2    2    2        1         1\n",
      "T2          3         3          2         3    2    2        1         1\n",
      "T3          4         4          3         4    2    2        1         1\n",
      "COEF       13         6          9         4    6    5        4         9\n",
      "PLANCHE     8         6          7         8    8    7        8         8\n",
      "\n",
      "\n",
      "Matrice pour les bac techno :\n",
      "         MATH  SCIENCES  NSI  ANGLAIS  FRANCAIS\n",
      "P1          1         1    1        1         1\n",
      "P2          2         2    1        1         1\n",
      "P3          3         3    1        1         1\n",
      "T1          2         2    2        1         1\n",
      "T2          3         3    2        1         1\n",
      "T3          4         4    2        1         1\n",
      "COEF       13         4    6        4         9\n",
      "PLANCHE    10         8    9        8         8\n"
     ]
    }
   ],
   "source": [
    "ENS_GEN=['MATH', 'MATH_EXP', 'MATH_COMP', 'SCIENCES', 'NSI', 'SES', 'FRANCAIS', 'ANGLAIS']\n",
    "ENS_TECHNO=['MATH', 'SCIENCES', 'NSI', 'FRANCAIS', 'ANGLAIS']\n",
    "\n",
    "MATRICE_G = pd.DataFrame(\n",
    "    {\n",
    "        'MATH': [1,2,3,2,3,4,13,8], \n",
    "        'MATH_EXP': [1,2,3,2,3,4,6,6], \n",
    "        'MATH_COMP': [0,0,0,1,2,3,9,7], \n",
    "        'SCIENCES': [1,2,3,2,3,4,4,8], \n",
    "        'NSI': [1,1,1,2,2,2,6,8],  \n",
    "        'SES': [1,1,1,2,2,2,5,7], \n",
    "        'ANGLAIS': [1,1,1,1,1,1,4,8], \n",
    "        'FRANCAIS': [1,1,1,1,1,1,9,8]\n",
    "    },\n",
    "    index = ['P1', 'P2', 'P3', 'T1', 'T2', 'T3', 'COEF', 'PLANCHE']\n",
    ")\n",
    "\n",
    "MATRICE_T = pd.DataFrame(\n",
    "    {\n",
    "        'MATH': [1,2,3,2,3,4,13,10], \n",
    "        'SCIENCES': [1,2,3,2,3,4,4,8], \n",
    "        'NSI': [1,1,1,2,2,2,6,9],  \n",
    "        'ANGLAIS': [1,1,1,1,1,1,4,8], \n",
    "        'FRANCAIS': [1,1,1,1,1,1,9,8]\n",
    "    },\n",
    "    index = ['P1', 'P2', 'P3', 'T1', 'T2', 'T3', 'COEF', 'PLANCHE']\n",
    ")\n",
    "\n",
    "print(\"Matrice pour les bac généraux :\")\n",
    "print(MATRICE_G)\n",
    "\n",
    "print(\"\\n\\nMatrice pour les bac techno :\")\n",
    "print(MATRICE_T)"
   ]
  }
 ],
 "metadata": {
  "kernelspec": {
   "display_name": "Python 3 (ipykernel)",
   "language": "python",
   "name": "python3"
  },
  "language_info": {
   "codemirror_mode": {
    "name": "ipython",
    "version": 3
   },
   "file_extension": ".py",
   "mimetype": "text/x-python",
   "name": "python",
   "nbconvert_exporter": "python",
   "pygments_lexer": "ipython3",
   "version": "3.10.4"
  }
 },
 "nbformat": 4,
 "nbformat_minor": 5
}
